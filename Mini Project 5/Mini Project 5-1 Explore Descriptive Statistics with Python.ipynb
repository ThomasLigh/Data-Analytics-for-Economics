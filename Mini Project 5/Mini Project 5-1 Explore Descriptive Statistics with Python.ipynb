{
 "cells": [
  {
   "cell_type": "markdown",
   "metadata": {
    "id": "9HYKQFUbTX8V"
   },
   "source": [
    "# Mini Project 5-1 Explore Descriptive Statistics with Python"
   ]
  },
  {
   "cell_type": "markdown",
   "metadata": {
    "id": "ee31943b-274e-4c28-bce6-155cb6f4c334"
   },
   "source": [
    "## **Introduction**\n",
    "\n",
    "Data professionals often use descriptive statistics to understand the data they are working with and provide collaborators with a summary of the relative location of values in the data, as well an information about its spread. \n",
    "\n",
    "For this activity, you are a member of an analytics team for the United States Environmental Protection Agency (EPA). You are assigned to analyze data on air quality with respect to carbon monoxide, a major air pollutant. The data includes information from more than 200 sites, identified by state, county, city, and local site names. You will use Python functions to gather statistics about air quality, then share insights with stakeholders."
   ]
  },
  {
   "cell_type": "markdown",
   "metadata": {
    "id": "4bb9630e-b940-4835-a389-d39def1fa848"
   },
   "source": [
    "## **Step 1: Imports** \n"
   ]
  },
  {
   "cell_type": "markdown",
   "metadata": {
    "id": "bc180686-4ae2-47ea-a292-3588ac60a820"
   },
   "source": [
    "Import the relevant Python libraries `pandas` and `numpy`."
   ]
  },
  {
   "cell_type": "code",
   "execution_count": null,
   "metadata": {
    "id": "8e7f1f2c-bbcc-4f3c-b927-b090ee8334c4"
   },
   "outputs": [],
   "source": [
    "import numpy as np\n",
    "import pandas as pd\n",
    "import matplotlib.pyplot as plt"
   ]
  },
  {
   "cell_type": "markdown",
   "metadata": {
    "id": "7d29c6bd-f194-46bb-b794-56dc20130473"
   },
   "source": [
    "The dataset provided is in the form of a .csv file named `c4_epa_air_quality.csv`. It contains a susbet of data from the U.S. EPA. As shown in this cell, the dataset has been automatically loaded in for you. You do not need to download the .csv file, or provide more code, in order to access the dataset and proceed with this Project. Please continue with this activity by completing the following instructions."
   ]
  },
  {
   "cell_type": "code",
   "execution_count": null,
   "metadata": {
    "id": "3bd40d44-080f-4e49-b0c2-160dedc3c4df"
   },
   "outputs": [],
   "source": [
    "\n",
    "import pandas as pd\n",
    "\n",
    "education_districtwise = pd.read_csv('education_districtwise.csv')\n",
    "\n",
    "\n",
    "# Load dataset (assuming it's already provided in the environment)\n",
    "df = pd.read_csv(\"c4_epa_air_quality.csv\")\n",
    "\n",
    "# Display basic info\n",
    "print(df.info())\n",
    "\n",
    "# Display first few rows\n",
    "print(df.head())\n",
    "\n",
    "print(df.isnull().sum())\n",
    "print(df.describe())\n",
    "\n",
    "import matplotlib.pyplot as plt\n",
    "import seaborn as sns\n",
    "\n",
    "# Histogram of a numerical column (replace 'column_name' with an actual column)\n",
    "sns.histplot(df['column_name'], bins=30, kde=True)\n",
    "plt.title(\"Distribution of column_name\")\n",
    "plt.show()\n",
    "\n",
    "import statsmodels.api as sm\n",
    "\n",
    "# Define dependent and independent variables (replace with actual column names)\n",
    "X = df[['independent_var1', 'independent_var2']]  # Independent variables\n",
    "y = df['dependent_var']  # Dependent variable\n",
    "\n",
    "# Add a constant term for the regression\n",
    "X = sm.add_constant(X)\n",
    "\n",
    "# Fit the regression model\n",
    "model = sm.OLS(y, X).fit()\n",
    "\n",
    "# Display summary results\n",
    "print(model.summary())"
   ]
  },
  {
   "cell_type": "markdown",
   "metadata": {
    "id": "k2QxFOi9HW1Q",
    "jp-MarkdownHeadingCollapsed": true,
    "tags": []
   },
   "source": [
    "<details>\n",
    "  <summary><h4><strong>Hint 1</strong></h4></summary>\n",
    "\n",
    "  There is a function in the `pandas` library that allows you to read in data from a .csv file and load it into a DataFrame. \n",
    "\n",
    "</details>"
   ]
  },
  {
   "cell_type": "markdown",
   "metadata": {
    "id": "ptkclWFzHjHv",
    "jp-MarkdownHeadingCollapsed": true,
    "tags": []
   },
   "source": [
    "<details>\n",
    "  <summary><h4><strong>Hint 2</strong></h4></summary>\n",
    "\n",
    "  Use the `read_csv` function from the pandas `library`. The `index_col` parameter can be set to `0` to read in the first column as an index (and to avoid `\"Unnamed: 0\"` appearing as a column in the resulting DataFrame).\n",
    "\n",
    "</details>"
   ]
  },
  {
   "cell_type": "markdown",
   "metadata": {
    "id": "95bf39c9-d05c-4324-a40b-bc692607b61b"
   },
   "source": [
    "## **Step 2: Data exploration** "
   ]
  },
  {
   "cell_type": "markdown",
   "metadata": {
    "id": "26561614-8e9b-4840-8dbf-b50131ae5314",
    "tags": []
   },
   "source": [
    "To understand how the dataset is structured, display the first 10 rows of the data."
   ]
  },
  {
   "cell_type": "code",
   "execution_count": null,
   "metadata": {
    "id": "ad5210a5-7a64-4991-b004-de818cfaf506"
   },
   "outputs": [],
   "source": [
    "# Display first 10 rows of the data.\n",
    "education_districtwise.head(10)"
   ]
  },
  {
   "cell_type": "markdown",
   "metadata": {
    "id": "9WUbcPx6IA-k",
    "jp-MarkdownHeadingCollapsed": true,
    "tags": []
   },
   "source": [
    "<details>\n",
    "  <summary><h4><strong>Hint 1</strong></h4></summary>\n",
    "\n",
    "  There is a function in the `pandas` library that allows you to get a specific number of rows from the top of a DataFrame. \n",
    "\n",
    "</details>"
   ]
  },
  {
   "cell_type": "markdown",
   "metadata": {
    "id": "rUiFGOUDIA-m",
    "jp-MarkdownHeadingCollapsed": true,
    "tags": []
   },
   "source": [
    "<details>\n",
    "  <summary><h4><strong>Hint 2</strong></h4></summary>\n",
    "\n",
    "  Use the `head()` function from the `pandas` library.\n",
    "\n",
    "</details>"
   ]
  },
  {
   "cell_type": "markdown",
   "metadata": {
    "id": "fb45ed17-5e22-4d48-9750-130a8586bbf9",
    "tags": []
   },
   "source": [
    "**Question:** What does the `aqi` column represent?"
   ]
  },
  {
   "cell_type": "markdown",
   "metadata": {
    "id": "MlpXJ36xpBFP"
   },
   "source": [
    "A: The aqi column in the dataset likely represents the Air Quality Index (AQI), a standardized measure used by the U.S. Environmental Protection Agency (EPA) to indicate air pollution levels and their potential health effects.\n",
    "\n",
    "Understanding AQI:\n",
    "AQI values range from 0 to 500, with higher values indicating worse air quality.\n",
    "It is calculated based on pollutants such as PM2.5, PM10, CO, SO2, NO2, and O3.\n"
   ]
  },
  {
   "cell_type": "markdown",
   "metadata": {
    "id": "68dc9b73-8944-4dd6-b2f8-6879717a7dab",
    "tags": []
   },
   "source": [
    "**Question:** In what units are the aqi values expressed?"
   ]
  },
  {
   "cell_type": "markdown",
   "metadata": {
    "id": "sksDtH6xpB8c"
   },
   "source": [
    "A: In Python, the AQI values are unitless since they represent an index rather than a direct concentration measurement"
   ]
  },
  {
   "cell_type": "markdown",
   "metadata": {
    "id": "7dac147e-19e1-49e7-bd80-e122390c3a70",
    "tags": []
   },
   "source": [
    "Now, get a table that contains some descriptive statistics about the data."
   ]
  },
  {
   "cell_type": "code",
   "execution_count": null,
   "metadata": {
    "id": "13f1c1dd-5637-4726-8fa0-2fbd838e4afa"
   },
   "outputs": [],
   "source": [
    "# Generate descriptive statistics for numerical columns\n",
    "stats_table = df.describe()\n",
    "\n",
    "# Display the table\n",
    "print(stats_table)\n",
    "print(stats_table.T)\n"
   ]
  },
  {
   "cell_type": "markdown",
   "metadata": {
    "id": "BM8x5LToI-Kn",
    "jp-MarkdownHeadingCollapsed": true,
    "tags": []
   },
   "source": [
    "<details>\n",
    "  <summary><h4><strong>Hint 1</strong></h4></summary>\n",
    "\n",
    "  There is a function in the `pandas` library that allows you to generate a table of basic descriptive statistics about the numeric columns in a DataFrame.\n",
    "\n",
    "</details>"
   ]
  },
  {
   "cell_type": "markdown",
   "metadata": {
    "id": "TVhhKA-6I-Ko",
    "jp-MarkdownHeadingCollapsed": true,
    "tags": []
   },
   "source": [
    "<details>\n",
    "  <summary><h4><strong>Hint 2</strong></h4></summary>\n",
    "\n",
    "  Use the `describe()` function from the `pandas` library.\n",
    "\n",
    "</details>"
   ]
  },
  {
   "cell_type": "markdown",
   "metadata": {
    "id": "a70475eb-d3a6-42e4-8b71-a49b5a1aa0db"
   },
   "source": [
    "**Question:** Based on the table of descriptive statistics, what do you notice about the count value for the `aqi` column?"
   ]
  },
  {
   "cell_type": "markdown",
   "metadata": {
    "id": "ZJddhXIUpCwz"
   },
   "source": [
    "A: The count value represents the number of non-null (non-missing) observations in the aqi column.\n",
    "If the count is lower than the total number of rows in the dataset, it means there are missing (NaN) values in this column. If count matches the dataset size → No missing values.\n",
    "If count is lower than total rows → There are missing AQI values that may need handling (e.g., imputation or removal).\n"
   ]
  },
  {
   "cell_type": "markdown",
   "metadata": {
    "id": "c7a59d04-61f1-45e5-946f-eaed074988cf"
   },
   "source": [
    "**Question:** What do you notice about the 25th percentile for the `aqi` column?\n",
    "\n",
    "This is an important measure for understanding where the aqi values lie. "
   ]
  },
  {
   "cell_type": "markdown",
   "metadata": {
    "id": "xhL4Qk7TpDrZ"
   },
   "source": [
    "A: Interpretation:\n",
    "The 25th percentile (Q1) is the value below which 25% of AQI observations fall.\n",
    "This helps us understand the lower quartile of air quality conditions in the dataset.\n",
    "A low Q1 value suggests that a significant portion of the data represents relatively good air quality.\n",
    "A high Q1 value indicates that even the lower range of AQI values may be concerning."
   ]
  },
  {
   "cell_type": "markdown",
   "metadata": {
    "id": "245a9299-23ea-4def-b968-b26be1da3a74"
   },
   "source": [
    "**Question:** What do you notice about the 75th percentile for the `aqi` column?\n",
    "\n",
    "This is another important measure for understanding where the aqi values lie. "
   ]
  },
  {
   "cell_type": "markdown",
   "metadata": {
    "id": "W2SLJkeCpEOj"
   },
   "source": [
    "A:The 75th percentile (Q3) is the value below which 75% of AQI observations fall.\n",
    "This represents the upper quartile, meaning the top 25% of AQI values are above this threshold.\n",
    "A high Q3 value suggests that a significant portion of the dataset includes poor air quality readings.\n",
    "Comparing Q1 (25th percentile) and Q3 (75th percentile) helps assess the spread of AQI values and possible outliers."
   ]
  },
  {
   "cell_type": "markdown",
   "metadata": {
    "id": "ZfvOKy7F7SOA"
   },
   "source": [
    "## **Step 3: Statistical tests** "
   ]
  },
  {
   "cell_type": "markdown",
   "metadata": {
    "id": "5464fa18-f969-4e1e-8539-9b2d9a11766d",
    "tags": []
   },
   "source": [
    "Next, get some descriptive statistics about the states in the data."
   ]
  },
  {
   "cell_type": "code",
   "execution_count": null,
   "metadata": {
    "id": "678346a1-bc1a-40be-850a-c03488970604"
   },
   "outputs": [],
   "source": [
    "# Count occurrences of each state\n",
    "state_counts = df['state'].value_counts()\n",
    "print(state_counts)\n",
    "# Group by state and calculate descriptive statistics for AQI\n",
    "state_stats = df.groupby('state')['aqi'].describe()\n",
    "print(state_stats)\n",
    "# Find state with the highest average AQI\n",
    "highest_aqi_state = df.groupby('state')['aqi'].mean().idxmax()\n",
    "highest_aqi_value = df.groupby('state')['aqi'].mean().max()\n",
    "\n",
    "# Find state with the lowest average AQI\n",
    "lowest_aqi_state = df.groupby('state')['aqi'].mean().idxmin()\n",
    "lowest_aqi_value = df.groupby('state')['aqi'].mean().min()\n",
    "\n",
    "print(f\"State with highest average AQI: {highest_aqi_state} ({highest_aqi_value})\")\n",
    "print(f\"State with lowest average AQI: {lowest_aqi_state} ({lowest_aqi_value})\")\n",
    "import matplotlib.pyplot as plt\n",
    "import seaborn as sns\n",
    "\n",
    "# Plot AQI distribution by state (top 10 states with most data points)\n",
    "top_states = df['state'].value_counts().index[:10]\n",
    "plt.figure(figsize=(12,6))\n",
    "sns.boxplot(x='state', y='aqi', data=df[df['state'].isin(top_states)])\n",
    "plt.xticks(rotation=45)\n",
    "plt.title(\"AQI Distribution in Top 10 States\")\n",
    "plt.show()\n",
    "\n",
    "\n"
   ]
  },
  {
   "cell_type": "markdown",
   "metadata": {
    "id": "NrCBFqf6KneL",
    "jp-MarkdownHeadingCollapsed": true,
    "tags": []
   },
   "source": [
    "<details>\n",
    "  <summary><h4><strong>Hint 1</strong></h4></summary>\n",
    "\n",
    "  There is a function in the `pandas` library that allows you to generate basic descriptive statistics about a DataFrame or a column you are interested in.\n",
    "\n",
    "</details>"
   ]
  },
  {
   "cell_type": "markdown",
   "metadata": {
    "id": "ELA3AlzhKneN",
    "jp-MarkdownHeadingCollapsed": true,
    "tags": []
   },
   "source": [
    "<details>\n",
    "  <summary><h4><strong>Hint 2</strong></h4></summary>\n",
    "\n",
    " Use the `describe()` function from the `pandas` library. Note that this function can be used:\n",
    "- \"on a DataFrame (to find descriptive statistics about the numeric columns)\" \n",
    "- \"directly on a column containing categorical data (to find pertinent descriptive statistics)\"\n",
    "\n",
    "</details>"
   ]
  },
  {
   "cell_type": "markdown",
   "metadata": {
    "id": "d6f10268-bf06-471f-8e6e-41c30a8e3e2a",
    "tags": []
   },
   "source": [
    "**Question:** What do you notice while reviewing the descriptive statistics about the states in the data? \n",
    "\n",
    "Note: Sometimes you have to individually calculate statistics. To review to that approach, use the `numpy` library to calculate each of the main statistics in the preceding table for the `aqi` column."
   ]
  },
  {
   "cell_type": "markdown",
   "metadata": {
    "id": "Vbu9rG78pGY1"
   },
   "source": [
    "A: Observations While Reviewing the Statistics\n",
    "Variability Between States:\n",
    "\n",
    "Some states have significantly higher AQI averages, indicating poor air quality.\n",
    "Other states may consistently show lower AQI values, representing cleaner air.\n",
    "Outliers in AQI:\n",
    "\n",
    "If a state's Max AQI is much higher than its 75th percentile (Q3), it suggests occasional extreme pollution events.\n",
    "A high Standard Deviation means AQI fluctuates widely in that state.\n",
    "Comparing Median & Mean AQI:\n",
    "\n",
    "If Mean AQI > Median AQI, the distribution is right-skewed (some extreme pollution values pulling the average up).\n",
    "If they are close, AQI distribution in that state is more balanced.\n",
    "High and Low AQI States:\n",
    "\n",
    "The state with the highest mean AQI likely experiences consistent pollution issues.\n",
    "The state with the lowest mean AQI has better overall air quality."
   ]
  },
  {
   "cell_type": "markdown",
   "metadata": {
    "id": "ArTZls9y8amg"
   },
   "source": [
    "## **Step 4. Results and evaluation**"
   ]
  },
  {
   "cell_type": "markdown",
   "metadata": {
    "id": "8c37014f-2751-4f65-b145-c63aa3a82e9a",
    "tags": []
   },
   "source": [
    "Now, compute the mean value from the `aqi` column."
   ]
  },
  {
   "cell_type": "code",
   "execution_count": null,
   "metadata": {
    "id": "df5f18bc-9d4b-4625-9b6f-01a6323b8b89"
   },
   "outputs": [],
   "source": [
    "df2 = df.mean(axis=0)\n",
    "print(\"Get column-wise mean:\\n\", df2)"
   ]
  },
  {
   "cell_type": "markdown",
   "metadata": {
    "id": "Cs9IQSfYL4QT",
    "jp-MarkdownHeadingCollapsed": true,
    "tags": []
   },
   "source": [
    "<details>\n",
    "  <summary><h4><strong>Hint 1</strong></h4></summary>\n",
    "\n",
    "  There is a function in the `numpy` library that allows you to get the mean value from an array or a Series of values.\n",
    "\n",
    "</details>"
   ]
  },
  {
   "cell_type": "markdown",
   "metadata": {
    "id": "aqewdWRoL4QU",
    "jp-MarkdownHeadingCollapsed": true,
    "tags": []
   },
   "source": [
    "<details>\n",
    "  <summary><h4><strong>Hint 2</strong></h4></summary>\n",
    "\n",
    "  Use the `mean()` function from the `numpy` library.\n",
    "\n",
    "</details>"
   ]
  },
  {
   "cell_type": "markdown",
   "metadata": {
    "id": "4552de4a-70d5-4862-bff8-e08b8a812d98"
   },
   "source": [
    "**Question:** What do you notice about the mean value from the `aqi` column?\n",
    "\n",
    "This is an important measure, as it tells you what the average air quality is based on the data."
   ]
  },
  {
   "cell_type": "markdown",
   "metadata": {
    "id": "PV0GCfM9pJqw"
   },
   "source": [
    "A: The mean value of the aqi column represents the average air quality across all the observations in the dataset. Here's how you might interpret it:\n",
    "\n",
    "If the mean is relatively low, it suggests that, on average, the air quality in the dataset is good. This could mean the majority of AQI values fall within the \"Good\" or \"Moderate\" ranges.\n",
    "\n",
    "If the mean is higher, it indicates poorer air quality overall, as the average value may be skewed by higher AQI readings. In this case, the data might contain more instances of Unhealthy or Very Unhealthy air quality.\n",
    "\n",
    "Skewed Distribution:\n",
    "\n",
    "If the mean is higher than the median, it indicates that the data distribution is right-skewed, meaning there are some extreme high AQI values pulling the average up.\n",
    "If the mean is close to the median, the distribution of AQI values is more balanced."
   ]
  },
  {
   "cell_type": "markdown",
   "metadata": {
    "id": "573d29cd-0ea9-4c96-80ea-c02144a155e9",
    "tags": []
   },
   "source": [
    "Next, compute the median value from the aqi column."
   ]
  },
  {
   "cell_type": "code",
   "execution_count": null,
   "metadata": {
    "id": "12da2095-441f-48f5-b8eb-1c7ae76edc9e"
   },
   "outputs": [],
   "source": [
    "import pandas as pd\n",
    "\n",
    "def calculate_median_aqi(df, column_name='aqi'):\n",
    "  \"\"\"\n",
    "  Calculates the median value of the specified column in a Pandas DataFrame.\n",
    "\n",
    "  Args:\n",
    "    df: Pandas DataFrame containing the AQI data.\n",
    "    column_name: Name of the column containing AQI values (default is 'aqi').\n",
    "\n",
    "  Returns:\n",
    "    The median AQI value, or None if the column is not found or empty.\n",
    "  \"\"\"\n",
    "  if column_name not in df.columns:\n",
    "    print(f\"Error: Column '{column_name}' not found in DataFrame.\")\n",
    "    return None\n",
    "  \n",
    "  aqi_column = df[column_name]\n",
    "  if aqi_column.empty:\n",
    "      print(f\"Error: Column '{column_name}' is empty.\")\n",
    "      return None\n",
    "\n",
    "  median_aqi = aqi_column.median()\n",
    "  return median_aqi\n",
    "\n",
    "# Example usage:\n",
    "data = {'location': ['A', 'B', 'C', 'D', 'E'],\n",
    "        'aqi': [50, 80, 120, 35, 65]}\n",
    "df = pd.DataFrame(data)\n",
    "\n",
    "median_value = calculate_median_aqi(df)\n",
    "\n",
    "if median_value is not None:\n",
    "    print(f\"The median AQI value is: {median_value}\")"
   ]
  },
  {
   "cell_type": "markdown",
   "metadata": {
    "id": "AuZzoodzM3q9",
    "jp-MarkdownHeadingCollapsed": true,
    "tags": []
   },
   "source": [
    "<details>\n",
    "  <summary><h4><strong>Hint 1</strong></h4></summary>\n",
    "\n",
    "  There is a function in the `numpy` library that allows you to get the median value from an array or a series of values.\n",
    "\n",
    "</details>"
   ]
  },
  {
   "cell_type": "markdown",
   "metadata": {
    "id": "hdeDIF-tM3q_",
    "jp-MarkdownHeadingCollapsed": true,
    "tags": []
   },
   "source": [
    "<details>\n",
    "  <summary><h4><strong>Hint 2</strong></h4></summary>\n",
    "\n",
    "  Use the `median()` function from the `numpy` library.\n",
    "\n",
    "</details>"
   ]
  },
  {
   "cell_type": "markdown",
   "metadata": {
    "id": "be75aa7d-a91c-4e3b-8eda-e2e3fe89c8d0"
   },
   "source": [
    "**Question:** What do you notice about the median value from the `aqi` column?\n",
    "\n",
    "This is an important measure for understanding the central location of the data."
   ]
  },
  {
   "cell_type": "markdown",
   "metadata": {
    "id": "LCW6pR6fpKdR"
   },
   "source": [
    "A: The median value of the aqi column represents the middle value of the dataset when sorted. It divides the data into two equal halves, so 50% of the AQI values are below the median, and 50% are above it. Here's how you can interpret the median:\n",
    "\n",
    "If the median is relatively low, it indicates that most of the AQI values fall on the lower end of the scale (e.g., \"Good\" air quality).\n",
    "\n",
    "If the median is high, it suggests that a majority of the air quality readings in the dataset are poor, with values falling into categories like \"Unhealthy\" or \"Very Unhealthy.\"\n",
    "\n",
    "Comparison with the Mean:\n",
    "\n",
    "If the median is lower than the mean, this suggests the presence of some higher AQI values (possibly outliers) that are skewing the average up, making the data right-skewed.\n",
    "If the median and mean are similar, the AQI distribution is likely more balanced, and there are fewer extreme values."
   ]
  },
  {
   "cell_type": "markdown",
   "id": "38f44d72",
   "metadata": {
    "id": "4f8cdeda-be0c-4a18-9a33-0a16c91f08fc",
    "tags": []
   },
   "source": [
    "Next, identify the minimum value from the `aqi` column."
   ]
  },
  {
   "cell_type": "code",
   "execution_count": null,
   "metadata": {
    "id": "bb3f1739-89aa-442a-8ddb-6c2d381243f3"
   },
   "outputs": [],
   "source": [
    "import pandas as pd\n",
    "\n",
    "# Assuming your DataFrame is named 'df'\n",
    "min_aqi = df['aqi'].min()\n",
    "\n",
    "print(min_aqi)"
   ]
  },
  {
   "cell_type": "markdown",
   "metadata": {
    "id": "vZeWnVMDR7Ee",
    "jp-MarkdownHeadingCollapsed": true,
    "tags": []
   },
   "source": [
    "<details>\n",
    "  <summary><h4><strong>Hint 1</strong></h4></summary>\n",
    "\n",
    "  There is a function in the `numpy` library that allows you to get the minimum value from an array or a Series of values.\n",
    "\n",
    "</details>"
   ]
  },
  {
   "cell_type": "markdown",
   "metadata": {
    "id": "RILxi-fPR7Ef",
    "jp-MarkdownHeadingCollapsed": true,
    "tags": []
   },
   "source": [
    "<details>\n",
    "  <summary><h4><strong>Hint 2</strong></h4></summary>\n",
    "\n",
    "  Use the `min()` function from the `numpy` library.\n",
    "\n",
    "</details>"
   ]
  },
  {
   "cell_type": "markdown",
   "metadata": {
    "id": "59335267-2025-4013-92de-fec720576263"
   },
   "source": [
    "**Question:** What do you notice about the minimum value from the `aqi` column?\n",
    "\n",
    "This is an important measure, as it tell you the best air quality observed in the data."
   ]
  },
  {
   "cell_type": "markdown",
   "metadata": {
    "id": "0IbKLA8gpLVR"
   },
   "source": [
    "The minimum value for the aqi column is 0. This means that the smallest aqi value in the data is 0 parts per million.\n"
   ]
  },
  {
   "cell_type": "markdown",
   "metadata": {
    "id": "5864cf7b-af15-4cd9-8648-903c882e8e8f",
    "tags": []
   },
   "source": [
    "Now, identify the maximum value from the `aqi` column."
   ]
  },
  {
   "cell_type": "code",
   "execution_count": null,
   "metadata": {
    "id": "ce9670ac-1fb3-48d1-ac92-f04f73ef0e37"
   },
   "outputs": [],
   "source": [
    "import pandas as pd\n",
    "\n",
    "# Sample DataFrame (replace with your actual data)\n",
    "data = {'aqi': [50, 150, 80, 250, 100]}\n",
    "df = pd.DataFrame(data)\n",
    "\n",
    "max_aqi = df['aqi'].max()\n",
    "\n",
    "print(max_aqi)\n"
   ]
  },
  {
   "cell_type": "markdown",
   "metadata": {
    "id": "vR475DQfSFXc",
    "jp-MarkdownHeadingCollapsed": true,
    "tags": []
   },
   "source": [
    "<details>\n",
    "  <summary><h4><strong>Hint 1</strong></h4></summary>\n",
    "\n",
    "  There is a function in the `numpy` library that allows you to get the maximum value from an array or a Series of values.\n",
    "\n",
    "</details>"
   ]
  },
  {
   "cell_type": "markdown",
   "metadata": {
    "id": "a7eDQB8_SFXe",
    "jp-MarkdownHeadingCollapsed": true,
    "tags": []
   },
   "source": [
    "<details>\n",
    "  <summary><h4><strong>Hint 2</strong></h4></summary>\n",
    "\n",
    "  Use the `max()` function from the `numpy` library.\n",
    "\n",
    "</details>"
   ]
  },
  {
   "cell_type": "markdown",
   "metadata": {
    "id": "b66e1d7d-a90e-4aff-b8da-3725c4f15c26"
   },
   "source": [
    "**Question:** What do you notice about the maximum value from the `aqi` column?\n",
    "\n",
    "This is an important measure, as it tells you which value in the data corresponds to the worst air quality observed in the data."
   ]
  },
  {
   "cell_type": "markdown",
   "id": "dbf5a0de",
   "metadata": {
    "id": "_BOdBpYupMNh"
   },
   "source": [
    "A: The maximum value from the aqi column represents the worst air quality observed in the dataset. Here's what you might notice about the maximum AQI value:\n",
    "\n",
    "Extreme Pollution: A high maximum AQI indicates the presence of extreme pollution events that significantly degrade air quality. The higher the value, the more severe the air quality issue, potentially impacting the health of the general population.\n",
    "\n",
    "Comparison to Health Standards:\n",
    "\n",
    "If the maximum AQI is above 300, the air quality falls into the Hazardous category, where everyone may experience serious health effects, and emergency measures may be required.\n",
    "If the maximum value is closer to 100, it falls into the Unhealthy for Sensitive Groups category, indicating that only vulnerable individuals (like children, elderly, or people with respiratory conditions) are affected.\n",
    "Outliers: A large difference between the maximum and the 25th or 75th percentiles may indicate that there are a few outliers (extremely high AQI values) that significantly affect the maximum but may not be representative of the overall air quality.\n",
    "\n",
    "Health Implications:\n",
    "\n",
    "An extremely high maximum AQI suggests that some locations in the dataset experience severe air pollution events, which might require urgent action (e.g., issuing health warnings, restricting outdoor activities).\n"
   ]
  },
  {
   "cell_type": "markdown",
   "metadata": {
    "id": "0f2b502c-55bd-4567-b602-129d5b682ea4",
    "tags": []
   },
   "source": [
    "Now, compute the standard deviation for the `aqi` column.\n",
    "\n",
    "By default, the `numpy` library uses 0 as the Delta Degrees of Freedom, while `pandas` library uses 1. To get the same value for standard deviation using either library, specify the `ddof` parameter to 1 when calculating standard deviation."
   ]
  },
  {
   "cell_type": "code",
   "execution_count": null,
   "metadata": {
    "id": "4caba3ad-6e7c-416a-a062-39a6af9f1f00"
   },
   "outputs": [],
   "source": [
    "import pandas as pd\n",
    "import numpy as np\n",
    "\n",
    "# Sample DataFrame (replace with your actual data)\n",
    "data = {'aqi': [50, 80, 120, 70, 90, 150]}\n",
    "df = pd.DataFrame(data)\n",
    "\n",
    "# Calculate standard deviation using pandas with ddof=1\n",
    "std_dev_pandas = df['aqi'].std(ddof=1)\n",
    "print(f\"Standard deviation using pandas: {std_dev_pandas}\")\n",
    "\n",
    "# Calculate standard deviation using numpy with ddof=1\n",
    "std_dev_numpy = np.std(df['aqi'], ddof=1)\n",
    "print(f\"Standard deviation using numpy: {std_dev_numpy}\")"
   ]
  },
  {
   "cell_type": "markdown",
   "metadata": {
    "id": "ps6bHHn_SNbC",
    "jp-MarkdownHeadingCollapsed": true,
    "tags": []
   },
   "source": [
    "<details>\n",
    "  <summary><h4><strong>Hint 1</strong></h4></summary>\n",
    "\n",
    "  There is a function in the `numpy` library that allows you to get the standard deviation from an array or a series of values.\n",
    "\n",
    "</details>"
   ]
  },
  {
   "cell_type": "markdown",
   "metadata": {
    "id": "FI09MR1ZSNbD",
    "jp-MarkdownHeadingCollapsed": true,
    "tags": []
   },
   "source": [
    "<details>\n",
    "  <summary><h4><strong>Hint 2</strong></h4></summary>\n",
    "\n",
    "Use the `std()` function from the `numpy` library. Make sure to specify the `ddof` parameter as 1. To read more about this function,  refer to its documentation in the references section of this lab.\n",
    "\n",
    "</details>"
   ]
  },
  {
   "cell_type": "markdown",
   "metadata": {
    "id": "890f18c1-97cc-4e92-8860-1e4ce3213e2e"
   },
   "source": [
    "**Question:** What do you notice about the standard deviation for the `aqi` column? \n",
    "\n",
    "This is an important measure of how spread out the aqi values are."
   ]
  },
  {
   "cell_type": "markdown",
   "metadata": {
    "id": "FWASCwOQZsgP"
   },
   "source": [
    "A: The standard deviation of the aqi column measures the spread or variability of the AQI values from the mean. Here's how you might interpret it:\n",
    "\n",
    "A low standard deviation means that the AQI values are closely clustered around the mean, indicating that most of the air quality readings are similar and there is less variability in the data.\n",
    "\n",
    "A high standard deviation means that the AQI values are spread out over a wide range, indicating significant variability in the air quality. This suggests that the dataset includes areas with both good and poor air quality, or possibly some extreme values (outliers) affecting the distribution.\n",
    "\n",
    "Understanding the context:\n",
    "\n",
    "If the standard deviation is large, this indicates that the air quality fluctuates a lot across different locations or time periods.\n",
    "A low standard deviation indicates more consistent air quality across the dataset."
   ]
  },
  {
   "cell_type": "markdown",
   "metadata": {
    "id": "c77e7f0f-d2b9-4464-8a7c-9575d1e1ef9f"
   },
   "source": [
    "## **Considerations**\n"
   ]
  },
  {
   "cell_type": "markdown",
   "metadata": {
    "id": "eptkD7BmYw0h"
   },
   "source": [
    "**What are some key takeaways that you learned during this Project?**"
   ]
  },
  {
   "cell_type": "markdown",
   "metadata": {
    "id": "LmFmOwT7Yzlw"
   },
   "source": [
    "A: there is a lot i still need to learn about this topic"
   ]
  },
  {
   "cell_type": "markdown",
   "metadata": {
    "id": "P_B0fXmoYz_g"
   },
   "source": [
    "**How would you present your findings from this Project to others? Consider the following relevant points noted by AirNow.gov as you respond:**\n",
    "- \"AQI values at or below 100 are generally thought of as satisfactory. When AQI values are above 100, air quality is considered to be unhealthy—at first for certain sensitive groups of people, then for everyone as AQI values increase.\"\n",
    "- \"An AQI of 100 for carbon monoxide corresponds to a level of 9 parts per million.\""
   ]
  },
  {
   "cell_type": "markdown",
   "metadata": {
    "id": "gfnZAHZ4Y7a_"
   },
   "source": [
    "A:1. Overview of the AQI Scale and Its Importance\n",
    "Begin by introducing the Air Quality Index (AQI) and its significance in measuring air pollution levels. Explain that:\n",
    "\n",
    "The AQI ranges from 0 to 500, with values above 100 indicating potential health risks.\n",
    "AQI values at or below 100 are generally satisfactory, while values above 100 signify unhealthy air quality, initially affecting sensitive groups and then the general population as values rise.\n",
    "2. Key Findings from the Data Analysis\n",
    "General Air Quality Trend: Based on the analysis of AQI values in the dataset, highlight the mean, median, and percentile values. For instance:\n",
    "\n",
    "If the mean AQI is above 100, it suggests that a significant portion of the data corresponds to unhealthy air quality levels.\n",
    "If the median AQI is close to or above 100, it indicates that the central tendency of the data is leaning toward unhealthy conditions.\n",
    "State-Level Insights: Present findings on AQI distribution by state. You could emphasize:\n",
    "\n",
    "States with the highest average AQI (indicating poor air quality).\n",
    "States with the lowest average AQI, showing relatively better air quality.\n",
    "Variation within states, using percentiles or standard deviation to highlight states with fluctuating air quality.\n",
    "3. Health Implications of AQI Values\n",
    "Explain the health impacts of AQI levels based on AirNow.gov guidelines:\n",
    "\n",
    "AQI ≤ 100: Air quality is considered satisfactory, with minimal risk for the general population. However, sensitive groups (e.g., children, elderly, or people with respiratory conditions) may experience minor effects at the higher end of this range.\n",
    "AQI > 100: Air quality is considered unhealthy for sensitive groups (e.g., individuals with asthma, heart disease, or children). At this point, it is important for these groups to limit exposure.\n",
    "AQI ≥ 150: Air quality is unhealthy for the general population. Everyone may begin to experience health effects, and it’s recommended to limit outdoor activities.\n",
    "4. Explanation of Carbon Monoxide and AQI\n",
    "Mention that, according to AirNow.gov, an AQI of 100 for carbon monoxide corresponds to 9 parts per million (ppm). This can be useful for interpreting AQI values in the context of specific pollutants, like carbon monoxide, that might be responsible for poor air quality in certain areas.\n",
    "\n",
    "5. Visual Aids to Enhance Understanding\n",
    "Box Plots and Histograms: These can illustrate the distribution of AQI values across different states and highlight trends (e.g., more extreme pollution in certain areas).\n",
    "Bar Graphs: To compare the mean AQI values between different states or regions.\n",
    "Health Impact Zones: A simple chart or diagram showing AQI ranges and their associated health impacts (e.g., color-coded zones for Good, Moderate, Unhealthy, etc.).\n",
    "6. Recommendations Based on Findings\n",
    "Finally, provide actionable recommendations based on the findings:\n",
    "\n",
    "Encourage efforts in states or regions with high AQI to improve air quality through stricter regulations on pollution.\n",
    "For areas with consistently unhealthy air quality, recommend public health measures such as air quality alerts and encouraging sensitive groups to limit outdoor exposure.\n",
    "Promote data-driven policies that focus on reducing air pollution from specific sources like industrial emissions or traffic."
   ]
  },
  {
   "cell_type": "markdown",
   "metadata": {
    "id": "B9NTCauFY7xU"
   },
   "source": [
    "**What summary would you provide to readers? Use the same information provided previously from AirNow.gov as you respond.**"
   ]
  },
  {
   "cell_type": "markdown",
   "metadata": {
    "id": "BO_KrnISY9ts"
   },
   "source": [
    "A:"
   ]
  },
  {
   "cell_type": "markdown",
   "metadata": {
    "id": "OPcCpjDLuHaW"
   },
   "source": [
    "**References**\n",
    "\n",
    "[Air Quality Index - A Guide to Air Quality and Your Health](https://www.airnow.gov/sites/default/files/2018-04/aqi_brochure_02_14_0.pdf). (2014,February)\n",
    "\n",
    "[Numpy.Std — NumPy v1.23 Manual](https://numpy.org/doc/stable/reference/generated/numpy.std.html)\n",
    "\n",
    "US EPA, OAR. (2014, 8 July).[*Air Data: Air Quality Data Collected at Outdoor Monitors Across the US*](https://www.epa.gov/outdoor-air-quality-data). "
   ]
  }
 ],
 "metadata": {
  "colab": {
   "collapsed_sections": [
    "68dc9b73-8944-4dd6-b2f8-6879717a7dab",
    "a70475eb-d3a6-42e4-8b71-a49b5a1aa0db",
    "c7a59d04-61f1-45e5-946f-eaed074988cf",
    "4552de4a-70d5-4862-bff8-e08b8a812d98",
    "be75aa7d-a91c-4e3b-8eda-e2e3fe89c8d0",
    "59335267-2025-4013-92de-fec720576263",
    "b66e1d7d-a90e-4aff-b8da-3725c4f15c26"
   ],
   "name": "SR-032_Learner_Facing_Lab_Round4.ipynb",
   "provenance": []
  },
  "kernelspec": {
   "display_name": "Python 3",
   "language": "python",
   "name": "python3"
  },
  "language_info": {
   "codemirror_mode": {
    "name": "ipython",
    "version": 3
   },
   "file_extension": ".py",
   "mimetype": "text/x-python",
   "name": "python",
   "nbconvert_exporter": "python",
   "pygments_lexer": "ipython3",
   "version": "3.13.1"
  },
  "toc-autonumbering": false,
  "toc-showtags": false
 },
 "nbformat": 4,
 "nbformat_minor": 5
}
