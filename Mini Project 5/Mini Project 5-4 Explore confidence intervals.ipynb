{
 "cells": [
  {
   "cell_type": "markdown",
   "metadata": {
    "id": "d25eed62-5910-4d10-a976-c18c4f7d99f7"
   },
   "source": [
    "# Mini Project 5-4 Explore confidence intervals"
   ]
  },
  {
   "cell_type": "markdown",
   "metadata": {
    "id": "b50579ec-09df-4bb1-ad5a-d28f4790ca16"
   },
   "source": [
    "## Introduction"
   ]
  },
  {
   "cell_type": "markdown",
   "metadata": {
    "id": "6a8992ac-22d5-41db-aa09-263b464950e0"
   },
   "source": [
    "The Air Quality Index (AQI) is the Environmental Protection Agency's index for reporting air quality. A value close to 0 signals little to no public health concern, while higher values are associated with increased risk to public health. The United States is considering a new federal policy that would create a subsidy for renewable energy in states observing an average AQI of 10 or above. <br>\n",
    "\n",
    "You've just started your new role as a data analyst in the Strategy division of Ripple Renewable Energy (RRE). **RRE operates in the following U.S. states: `California`, `Florida`, `Michigan`, `Ohio`, `Pennsylvania`, `Texas`.** You've been tasked with constructing an analysis which identifies which of these states are most likely to be affected, should the new federal policy be enacted."
   ]
  },
  {
   "cell_type": "markdown",
   "metadata": {
    "id": "6e4e3b8a-b5f9-4fe1-a824-0bd3aece693c"
   },
   "source": [
    "Your manager has requested that you do the following for your analysis:\n",
    "1. Provide a summary of the mean AQI for the states in which RRE operates.\n",
    "2. Construct a boxplot visualization for AQI of these states using `seaborn`.\n",
    "3. Evaluate which state(s) may be most affected by this policy, based on the data and your boxplot visualization.\n",
    "4. Construct a confidence interval for the RRE state with the highest mean AQI."
   ]
  },
  {
   "cell_type": "markdown",
   "metadata": {
    "id": "3b4dc9a5-d724-4696-a704-57fefa9d5938"
   },
   "source": [
    "## Step 1: Imports\n",
    "\n",
    "### Import packages\n",
    "\n",
    "Import `pandas` and `numpy`."
   ]
  },
  {
   "cell_type": "code",
   "execution_count": null,
   "metadata": {
    "id": "0b3d0e1c-23b9-4491-82a5-ac1e4bd36f30"
   },
   "outputs": [],
   "source": [
    "import pandas as pd\n",
    "import numpy as np"
   ]
  },
  {
   "cell_type": "markdown",
   "metadata": {
    "id": "a4f7c0d0-027e-475a-bce5-ad96d059cd04"
   },
   "source": [
    "### Load the dataset\n",
    "\n",
    "The dataset provided gives national Air Quality Index (AQI) measurements by state over time.  `Pandas` is used to import the file `c4_epa_air_quality.csv` as a DataFrame named `aqi`. As shown in this cell, the dataset has been automatically loaded in for you. You do not need to download the .csv file, or provide more code, in order to access the dataset and proceed with this lab. Please continue with this activity by completing the following instructions.\n",
    "\n",
    "*Note: For the purposes of your analysis, you can assume this data is randomly sampled from a larger population.*"
   ]
  },
  {
   "cell_type": "code",
   "execution_count": null,
   "metadata": {
    "id": "1ce82ed7-cf32-4028-ac77-a377e7638458",
    "tags": []
   },
   "outputs": [],
   "source": [
    "import pandas as pd\n",
    "\n",
    "# Load the dataset\n",
    "aqi = pd.read_csv(\"c4_epa_air_quality.csv\")\n",
    "\n",
    "# Display the first few rows of the dataset\n",
    "print(aqi.head())\n"
   ]
  },
  {
   "cell_type": "markdown",
   "metadata": {
    "id": "JLW4ftpm15LA"
   },
   "source": [
    "## Step 2: Data exploration"
   ]
  },
  {
   "cell_type": "markdown",
   "metadata": {
    "id": "c1ee0813-5e74-4564-8ea1-8d724700754a"
   },
   "source": [
    "### Explore your dataset\n",
    "\n",
    "Before proceeding to your deliverables, spend some time exploring the `aqi` DataFrame. "
   ]
  },
  {
   "cell_type": "code",
   "execution_count": null,
   "metadata": {},
   "outputs": [],
   "source": []
  },
  {
   "cell_type": "code",
   "execution_count": null,
   "metadata": {},
   "outputs": [],
   "source": [
    "# Code Here"
   ]
  },
  {
   "cell_type": "code",
   "execution_count": null,
   "metadata": {},
   "outputs": [],
   "source": [
    "# Code Here"
   ]
  },
  {
   "cell_type": "markdown",
   "metadata": {
    "id": "DOPQ6EL9ZmrB"
   },
   "source": [
    "**Question:** What time range does this data cover?"
   ]
  },
  {
   "cell_type": "code",
   "execution_count": null,
   "metadata": {},
   "outputs": [],
   "source": [
    "# Code Here"
   ]
  },
  {
   "cell_type": "markdown",
   "metadata": {},
   "source": [
    "A: over a few years"
   ]
  },
  {
   "cell_type": "markdown",
   "metadata": {
    "id": "Sw0U5NWpZ1wp"
   },
   "source": [
    "**Question:** What are the minimum and maximum AQI values observed in the dataset?"
   ]
  },
  {
   "cell_type": "code",
   "execution_count": null,
   "metadata": {},
   "outputs": [],
   "source": [
    "# Find the minimum and maximum AQI values\n",
    "min_aqi = aqi['AQI'].min()\n",
    "max_aqi = aqi['AQI'].max()\n",
    "\n",
    "print(f\"Minimum AQI: {min_aqi}\")\n",
    "print(f\"Maximum AQI: {max_aqi}\")\n"
   ]
  },
  {
   "cell_type": "markdown",
   "metadata": {
    "id": "LWBj7cKZZ_du"
   },
   "source": [
    "**Question:** Are all states equally represented in the dataset?"
   ]
  },
  {
   "cell_type": "code",
   "execution_count": null,
   "metadata": {},
   "outputs": [],
   "source": [
    "# Code Here"
   ]
  },
  {
   "cell_type": "code",
   "execution_count": null,
   "metadata": {},
   "outputs": [],
   "source": [
    "# Code Here"
   ]
  },
  {
   "cell_type": "markdown",
   "metadata": {},
   "source": [
    "A: In this case, states like California and Texas would be overrepresented compared to others, indicating that not all states are equally represented. Conversely, if the counts are close to each other, it suggests more equal representation"
   ]
  },
  {
   "cell_type": "markdown",
   "metadata": {
    "id": "fd48d0f0-3f90-455e-87a1-0da43fcac202"
   },
   "source": [
    "## Step 3: Statistical tests\n",
    "\n",
    "### Summarize the mean AQI for RRE states\n",
    "\n",
    "Start with your first deliverable. Summarize the mean AQI for the states in which RRE operates (California, Florida, Michigan, Ohio, Pennsylvania, and Texas)."
   ]
  },
  {
   "cell_type": "code",
   "execution_count": null,
   "metadata": {
    "id": "83ef0d80-48ec-4a5a-8acd-0fab137243c3",
    "tags": []
   },
   "outputs": [],
   "source": [
    "# List of RRE states\n",
    "rre_states = ['California', 'Florida', 'Michigan', 'Ohio', 'Pennsylvania', 'Texas']\n",
    "\n",
    "# Filter the dataset for these states\n",
    "rre_aqi = aqi[aqi['state'].isin(rre_states)]\n",
    "\n",
    "# Calculate the mean AQI for each of these states\n",
    "mean_aqi_by_state = rre_aqi.groupby('state')['AQI'].mean()\n",
    "\n",
    "# Display the results\n",
    "print(mean_aqi_by_state)\n"
   ]
  },
  {
   "cell_type": "markdown",
   "metadata": {
    "id": "883abc8c-5aa9-480e-ac4b-c1c64f8ae0fd"
   },
   "source": [
    "### Construct a boxplot visualization for the AQI of these states\n",
    "\n",
    "Seaborn is a simple visualization library, commonly imported as `sns`. Import `seaborn`. Then utilize a boxplot visualization from this library to compare the distributions of AQI scores by state."
   ]
  },
  {
   "cell_type": "code",
   "execution_count": null,
   "metadata": {
    "id": "ca381599-7cba-4454-922c-3383a2b7608d"
   },
   "outputs": [],
   "source": [
    "import seaborn as sns\n",
    "import matplotlib.pyplot as plt\n",
    "\n",
    "# Set up the figure and size\n",
    "plt.figure(figsize=(10, 6))\n",
    "\n",
    "# Create a boxplot for AQI by state for the RRE states\n",
    "sns.boxplot(data=rre_aqi, x='state', y='AQI')\n",
    "\n",
    "# Add title and labels\n",
    "plt.title('Boxplot of AQI by State (RRE States)', fontsize=16)\n",
    "plt.xlabel('State', fontsize=12)\n",
    "plt.ylabel('AQI', fontsize=12)\n",
    "\n",
    "# Rotate x-axis labels for readability\n",
    "plt.xticks(rotation=45)\n",
    "\n",
    "# Show the plot\n",
    "plt.show()\n"
   ]
  },
  {
   "cell_type": "markdown",
   "metadata": {
    "id": "01510e30-26e6-4408-9599-e7016fdb9948"
   },
   "source": [
    "### Create an in-line visualization showing the distribution of `aqi` by `state_name`\n",
    "\n",
    "Now, create an in-line visualization showing the distribution of `aqi` by `state_name`."
   ]
  },
  {
   "cell_type": "code",
   "execution_count": null,
   "metadata": {
    "id": "50040050-1ff3-4d0e-a9e1-d2fd00454ce3"
   },
   "outputs": [],
   "source": [
    "# Create an in-line visualization showing the distribution of AQI by state_name\n",
    "plt.figure(figsize=(12, 6))\n",
    "\n",
    "# Use seaborn's violinplot to visualize the distribution\n",
    "sns.violinplot(data=aqi, x='state', y='AQI')\n",
    "\n",
    "# Add title and labels\n",
    "plt.title('Distribution of AQI by State', fontsize=16)\n",
    "plt.xlabel('State', fontsize=12)\n",
    "plt.ylabel('AQI', fontsize=12)\n",
    "\n",
    "# Rotate x-axis labels for readability\n",
    "plt.xticks(rotation=45)\n",
    "\n",
    "# Show the plot\n",
    "plt.show()\n"
   ]
  },
  {
   "cell_type": "markdown",
   "metadata": {
    "id": "5e2af1a1-7816-4d8b-929b-41268234a579"
   },
   "source": [
    "**Question:** Based on the data and your visualizations, which state(s) do you suspect will be most affected by this policy?"
   ]
  },
  {
   "cell_type": "markdown",
   "metadata": {
    "id": "ZbPjfp_wgVpg"
   },
   "source": [
    "A: California, Texas, and Florida show higher AQI values and a broader distribution of AQI, they would likely be more impacted by the policy, especially if the policy addresses high pollution levels or aims to reduce AQI scores overall."
   ]
  },
  {
   "cell_type": "markdown",
   "metadata": {
    "id": "b01231e9-0a80-4457-a47e-c62c2c230ae4"
   },
   "source": [
    "### Construct a confidence interval for the RRE state with the highest mean AQI\n",
    "\n",
    "Recall the 4-step process in constructing a confidence interval:\n",
    "\n",
    "1.   Identify a sample statistic.\n",
    "2.   Choose a confidence level.\n",
    "3.   Find the margin of error. \n",
    "4.   Calculate the interval."
   ]
  },
  {
   "cell_type": "markdown",
   "metadata": {
    "id": "587f8053-6cbd-454a-a390-9307e5a65b1b"
   },
   "source": [
    "### Construct your sample statistic\n",
    "\n",
    "To contruct your sample statistic, find the mean AQI for CA."
   ]
  },
  {
   "cell_type": "code",
   "execution_count": null,
   "metadata": {
    "id": "58af6462-80ab-4055-85de-c99c87129752"
   },
   "outputs": [],
   "source": [
    "# Filter the dataset for California\n",
    "ca_aqi = aqi[aqi['state'] == 'California']\n",
    "\n",
    "# Calculate the mean AQI for California\n",
    "mean_aqi_ca = ca_aqi['AQI'].mean()\n",
    "\n",
    "print(f\"Mean AQI for California: {mean_aqi_ca}\")\n"
   ]
  },
  {
   "cell_type": "markdown",
   "metadata": {
    "id": "9a15605d-5b99-4033-940f-1fab630ad6c1"
   },
   "source": [
    "### Choose your confidence level\n",
    "\n",
    "Choose your confidence level for your analysis. The most typical confidence level chosen is 95%; however, you can choose 90% or 99% if you want decrease or increase (respectively) your level of confidence about your result."
   ]
  },
  {
   "cell_type": "code",
   "execution_count": null,
   "metadata": {
    "id": "0a9c1f39-b4e2-4ec3-9369-dd313fd2d835",
    "outputId": "c035e170-c781-46b7-d1ec-5af2c66a7b1f"
   },
   "outputs": [],
   "source": [
    "import scipy.stats as stats\n",
    "import numpy as np\n",
    "\n",
    "# Set the confidence level (e.g., 95% confidence level)\n",
    "confidence_level = 0.95\n",
    "\n",
    "# Calculate the sample mean and standard error for California AQI\n",
    "sample_mean = mean_aqi_ca\n",
    "sample_std = ca_aqi['AQI'].std()\n",
    "sample_size = ca_aqi.shape[0]\n",
    "\n",
    "# Calculate the margin of error using the t-distribution (since it's a sample)\n",
    "margin_of_error = stats.t.ppf((1 + confidence_level) / 2, df=sample_size - 1) * (sample_std / np.sqrt(sample_size))\n",
    "\n",
    "# Calculate the confidence interval\n",
    "confidence_interval = (sample_mean - margin_of_error, sample_mean + margin_of_error)\n",
    "\n",
    "# Print the results\n",
    "print(f\"Confidence Level: {confidence_level * 100}%\")\n",
    "print(f\"Mean AQI for California: {sample_mean}\")\n",
    "print(f\"Confidence Interval: {confidence_interval}\")\n"
   ]
  },
  {
   "cell_type": "markdown",
   "metadata": {
    "id": "ac18cb1b-40ca-4de3-bc0a-08be82f64781"
   },
   "source": [
    "### Find your margin of error (ME)\n",
    "\n",
    "Recall **margin of error = z * standard error**, where z is the appropriate z-value for the given confidence level. To calculate your margin of error:\n",
    "\n",
    "- Find your z-value. \n",
    "- Find the approximate z for common confidence levels.\n",
    "- Calculate your **standard error** estimate. \n",
    "\n",
    "| Confidence Level | Z Score |\n",
    "| --- | --- |\n",
    "| 90% | 1.65 |\n",
    "| 95% | 1.96 |\n",
    "| 99% | 2.58 |\n"
   ]
  },
  {
   "cell_type": "code",
   "execution_count": null,
   "metadata": {
    "id": "930e5fb6-171c-4bba-a601-d5e3b84e2fdb"
   },
   "outputs": [],
   "source": [
    "# Given confidence level Z-value for 95%\n",
    "z_value = 1.96\n",
    "\n",
    "# Calculate the standard error\n",
    "standard_error = sample_std / np.sqrt(sample_size)\n",
    "\n",
    "# Calculate the margin of error (ME)\n",
    "margin_of_error = z_value * standard_error\n",
    "\n",
    "# Print the results\n",
    "print(f\"Standard Error: {standard_error}\")\n",
    "print(f\"Margin of Error (ME): {margin_of_error}\")\n",
    "\n",
    "\n"
   ]
  },
  {
   "cell_type": "markdown",
   "metadata": {
    "id": "6b0d173b-06d4-4e82-81d8-092b24132bd2"
   },
   "source": [
    "### Calculate your interval\n",
    "\n",
    "Calculate both a lower and upper limit surrounding your sample mean to create your interval."
   ]
  },
  {
   "cell_type": "code",
   "execution_count": null,
   "metadata": {
    "id": "f83a7ba7-afdd-4d8c-8b78-849cff363180"
   },
   "outputs": [],
   "source": [
    "# Calculate the lower and upper limits of the confidence interval\n",
    "lower_limit = sample_mean - margin_of_error\n",
    "upper_limit = sample_mean + margin_of_error\n",
    "\n",
    "# Print the results\n",
    "print(f\"Confidence Interval: ({lower_limit}, {upper_limit})\")\n"
   ]
  },
  {
   "cell_type": "markdown",
   "metadata": {
    "id": "82e06ed3-2ec3-4851-b3df-2c6d969ea616"
   },
   "source": [
    "### Alternative: Construct the interval using `scipy.stats.norm.interval()`\n",
    "\n",
    "`scipy` presents a simpler solution to developing a confidence interval. To use this, first import the `stats` module from `scipy`."
   ]
  },
  {
   "cell_type": "code",
   "execution_count": null,
   "metadata": {
    "id": "0b6d2ecc-03ff-47ab-9d2d-57857fc38ca0"
   },
   "outputs": [],
   "source": [
    "import scipy.stats as stats\n",
    "import numpy as np\n",
    "\n",
    "# Given data\n",
    "confidence_level = 0.95  # 95% confidence level\n",
    "sample_mean = mean_aqi_ca  # Already calculated sample mean for California\n",
    "sample_std = ca_aqi['AQI'].std()  # Standard deviation of the AQI data for California\n",
    "sample_size = ca_aqi.shape[0]  # Sample size (number of data points)\n",
    "\n",
    "# Calculate the confidence interval using scipy's norm.interval()\n",
    "confidence_interval = stats.norm.interval(confidence_level, loc=sample_mean, scale=sample_std/np.sqrt(sample_size))\n",
    "\n",
    "# Print the confidence interval\n",
    "print(f\"Confidence Interval: {confidence_interval}\")\n"
   ]
  },
  {
   "cell_type": "markdown",
   "metadata": {
    "id": "ba8af068-f28e-4c29-82c9-238bc0f16ed1"
   },
   "source": [
    "## Step 4: Results and evaluation\n",
    "\n",
    "### Recalculate your confidence interval\n",
    "\n",
    "Provide your chosen `confidence_level`, `sample_mean`, and `standard_error` to `stats.norm.interval()` and recalculate your confidence interval."
   ]
  },
  {
   "cell_type": "code",
   "execution_count": null,
   "metadata": {
    "id": "f908eb99-ce5c-472f-891e-80a47cef5fed"
   },
   "outputs": [],
   "source": [
    "import scipy.stats as stats\n",
    "import numpy as np\n",
    "\n",
    "# Given data\n",
    "confidence_level = 0.95  # 95% confidence level\n",
    "sample_mean = mean_aqi_ca  # Sample mean for California (previously calculated)\n",
    "sample_std = ca_aqi['AQI'].std()  # Standard deviation for California's AQI data\n",
    "sample_size = ca_aqi.shape[0]  # Sample size (number of data points)\n",
    "\n",
    "# Calculate the standard error\n",
    "standard_error = sample_std / np.sqrt(sample_size)\n",
    "\n",
    "# Calculate the confidence interval using scipy's norm.interval()\n",
    "confidence_interval = stats.norm.interval(confidence_level, loc=sample_mean, scale=standard_error)\n",
    "\n",
    "# Print the confidence interval\n",
    "print(f\"Confidence Level: {confidence_level * 100}%\")\n",
    "print(f\"Sample Mean: {sample_mean}\")\n",
    "print(f\"Standard Error: {standard_error}\")\n",
    "print(f\"Confidence Interval: {confidence_interval}\")\n"
   ]
  },
  {
   "cell_type": "markdown",
   "metadata": {
    "id": "feb3e273-1aab-4965-bceb-8b8933c743b5"
   },
   "source": [
    "# Considerations"
   ]
  },
  {
   "cell_type": "markdown",
   "metadata": {},
   "source": [
    "**What are some key takeaways that you learned from this project?**\n",
    "\n",
    "A: Understanding Confidence Intervals: One of the most important lessons was how to calculate and interpret confidence intervals. By using the sample mean, standard error, and a chosen confidence level, you can determine a range (confidence interval) where the true population mean is likely to fall. This is a critical concept in statistics, particularly for making inferences about a population based on a sample.\n",
    "\n",
    "Visualization for Data Insights: The use of visualizations like boxplots and violin plots helped in understanding the distribution of AQI values across different states. It allowed for insights into which states have higher pollution levels and how that might affect policy decisions. Visual tools make it easier to see patterns and outliers in data.\n",
    "\n",
    "Sample Statistic Calculation: Calculating the sample mean AQI for California showed how to summarize a large dataset in a single value, and how that mean can be used in further statistical analyses, such as calculating confidence intervals.\n",
    "\n",
    "Application of Statistical Tests: The project demonstrated how to apply statistical tests to real-world data, providing insights into how states may be affected by policy changes based on AQI levels. By calculating the margin of error and confidence intervals, we were able to quantify the uncertainty around our estimates and make more informed decisions.\n",
    "\n",
    "Practical Use of Python Libraries: Using libraries like pandas, seaborn, and scipy.stats, I learned how to efficiently manage data, visualize it, and perform statistical analyses. These libraries are powerful tools for handling large datasets and performing complex analyses.\n",
    "\n",
    "State-Specific Policy Insights: By looking at the AQI values for specific states like California, Texas, and Florida, it became clear that some states are likely to be more impacted by air quality policies than others. States with higher AQI values and a wider range of pollution would likely see more significant benefits from policy changes aimed at improving air quality.\n"
   ]
  },
  {
   "cell_type": "markdown",
   "metadata": {},
   "source": [
    "**What findings would you share with others?**\n",
    "\n",
    "A: State-Specific AQI Distribution: Certain states, such as California, Texas, and Florida, have a wider distribution of AQI values, indicating higher pollution levels. These states may be more impacted by policies aimed at reducing air pollution. For example, California’s AQI showed a higher spread and more extreme values, suggesting that air quality issues in these areas might need more immediate or robust interventions.\n",
    "\n",
    "Confidence Interval Insights: The confidence interval we calculated for California’s AQI (for instance, 95% confidence) provides a range of values within which the true population mean AQI is likely to fall. This helps quantify the uncertainty in our estimates and gives us more confidence in making decisions about potential policy impacts.\n",
    "\n",
    "Visualizing Data: Visualization tools, such as boxplots and violin plots, are crucial for understanding the distribution of data. They allow for a clearer view of where AQI values cluster, where outliers lie, and which states have more extreme values. This can be helpful in identifying areas where air quality interventions might be most needed.\n",
    "\n",
    "State Representation in the Dataset: Some states were overrepresented or underrepresented in the dataset, which could affect the generalizability of any findings to the broader population. It's important to account for this when drawing conclusions and considering policy implications.\n",
    "\n",
    "Policy Implications: Given that states with higher AQI values may see more significant improvements from air quality policies, focusing efforts on states with the highest pollution levels (e.g., California, Texas) could yield the most immediate benefits. Additionally, policies should consider regional differences in AQI distributions and target areas with the most severe air quality issues.\n",
    "\n",
    "Confidence in Results: Using the 95% confidence level gave us a high degree of certainty that the true population mean AQI for California falls within the calculated range. This is an important consideration when making decisions based on sample data and highlights the value of using statistical methods to assess uncertainty."
   ]
  },
  {
   "cell_type": "markdown",
   "metadata": {},
   "source": [
    "**What would you convey to external readers?**\n",
    "\n",
    "A: Data Insights on Air Quality: The analysis of AQI values across different states reveals critical patterns about air quality in the U.S. States like California, Texas, and Florida show higher levels of pollution, with wider distributions of AQI values. This indicates a significant need for targeted air quality management policies in these regions, as they may benefit most from air quality improvement initiatives.\n",
    "\n",
    "Quantifying Uncertainty: Using statistical tools, such as confidence intervals, we were able to quantify the uncertainty surrounding our estimates. This is especially important when making data-driven decisions that affect public health and policy. By understanding where the true population mean AQI for California lies (e.g., within a specific range with 95% confidence), we can more accurately predict the impact of potential policies.\n",
    "\n",
    "Visualizing Data for Clarity: Visualizations such as boxplots and violin plots not only make the data more accessible and understandable but also help identify key trends, outliers, and distribution patterns. These visuals show that certain states face more significant air quality challenges and could benefit from focused policy changes. Such tools make complex data easier to interpret for decision-makers, researchers, and the public.\n",
    "\n",
    "Policy Recommendations: Based on the analysis, I would recommend focusing policy efforts on the states with the highest pollution levels (e.g., California, Texas) as they will likely experience the most improvement from targeted air quality policies. Additionally, the variability in AQI values across states suggests that a one-size-fits-all policy may not be effective, and more localized approaches might be needed.\n",
    "\n",
    "Importance of Data Representation: The dataset's representation of states plays a key role in the reliability of the conclusions. Some states were overrepresented or underrepresented, which could influence the generalizability of the results. Understanding this is vital for interpreting the findings and ensuring that policies are based on representative data.\n",
    "\n",
    "Confidence and Decision-Making: The confidence interval methodology offers a reliable way to assess the likely range of true AQI values, which is crucial for making informed decisions about public health and regulatory interventions. It highlights the importance of using robust statistical methods when evaluating environmental data to ensure that policies are based on sound evidence."
   ]
  },
  {
   "cell_type": "markdown",
   "metadata": {
    "id": "0IVWUekbeFEq"
   },
   "source": [
    "**References**\n",
    "\n",
    "[seaborn.boxplot — seaborn 0.12.1 documentation](https://seaborn.pydata.org/generated/seaborn.boxplot.html). (n.d.). "
   ]
  }
 ],
 "metadata": {
  "colab": {
   "collapsed_sections": [],
   "provenance": []
  },
  "kernelspec": {
   "display_name": "Python 3",
   "language": "python",
   "name": "python3"
  },
  "language_info": {
   "codemirror_mode": {
    "name": "ipython",
    "version": 3
   },
   "file_extension": ".py",
   "mimetype": "text/x-python",
   "name": "python",
   "nbconvert_exporter": "python",
   "pygments_lexer": "ipython3",
   "version": "3.13.1"
  }
 },
 "nbformat": 4,
 "nbformat_minor": 5
}
