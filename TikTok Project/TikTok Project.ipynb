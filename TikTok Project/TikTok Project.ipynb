{
  "cells": [
    {
      "cell_type": "markdown",
      "metadata": {
        "id": "DtNBZFHO3M7n"
      },
      "source": [
        "# **TikTok Project**"
      ]
    },
    {
      "cell_type": "markdown",
      "metadata": {
        "id": "zJCatj3xzrQZ"
      },
      "source": [
        "Welcome to the TikTok Project!\n",
        "\n",
        "You have just started as a data professional at TikTok.\n",
        "\n",
        "The team is still in the early stages of the project. You have received notice that TikTok's leadership team has approved the project proposal.\n",
        "\n",
        "---\n",
        "\n",
        "### **Project Proposal: Predictive Model for Video Claims Detection**  \n",
        "**Using the PACE Workflow (Plan, Analyze, Construct, Execute)**  \n",
        "\n",
        "## **Part 1. Plan Stage**  \n",
        "\n",
        "### **Objective**  \n",
        "Develop a **predictive model** that determines whether a video contains a **claim** or expresses an **opinion**.  \n",
        "This model aims to **enhance efficiency** in addressing claims, thereby **reducing the backlog of user reports**.  \n",
        "\n",
        "### **Key Questions to Address**  \n",
        "- **What variables should be considered?**  \n",
        "- **What is the condition of the dataset?** (e.g., when and how it was collected)  \n",
        "- **How can bias be minimized?**  \n",
        "- **What trends can be observed in the data?**  \n",
        "- **Which variables are likely to yield better predictive results?**  \n",
        "- **What is the economic impact of this project?**  \n",
        "\n",
        "### **Resources Required**  \n",
        "- A **Python notebook** and necessary **hardware (computer)**  \n",
        "- The **dataset**  \n",
        "- **Input from stakeholders**  \n",
        "\n",
        "## **Part 2. Analyze Stage**  \n",
        "### **Tasks**  \n",
        "- **Exploratory Data Analysis (EDA)**: Understanding the dataset, identifying patterns, and addressing irregularities.  \n",
        "- **Hypothesis Testing**: Running statistical tests to support business needs and model development.  \n",
        "- **Data Cleaning**: Handling missing values and removing inconsistencies to improve model accuracy.  \n",
        "\n",
        "### **Why These Steps?**  \n",
        "- EDA **uncovers patterns and structures** in the dataset.  \n",
        "- Hypothesis testing **validates statistical assumptions** required for model training.  \n",
        "- Data cleaning **ensures model reliability** by addressing irregularities.  \n",
        "\n",
        "## **Part 3. Construct Stage**  \n",
        "### **Tasks**  \n",
        "- **Feature Selection & Engineering**: Identifying relevant features that influence predictions.  \n",
        "- **Model Training & Optimization**: Developing and refining the predictive model.  \n",
        "- **Model Validation**: Ensuring predictive accuracy using statistical methods.  \n",
        "\n",
        "## **Part 4. Execute Stage**  \n",
        "### **Tasks**  \n",
        "- **Model Evaluation**: Assessing accuracy, recall, and precision to measure performance.  \n",
        "- **Stakeholder Communication**: Presenting insights, gathering feedback, and ensuring business needs are met.  \n",
        "\n",
        "### **Why These Steps?**  \n",
        "- Model evaluation determines how well the solution **meets project goals**.  \n",
        "- Effective communication **aligns project outcomes** with business needs.  \n",
        "\n",
        "\n",
        "## **Overall Impact**  \n",
        "This project will improve **efficiency and accuracy** in handling claims by automating the review process. It will enhance decision-making, reduce manual workload, and provide **scalable AI-driven solutions** for content moderation.  \n",
        "\n",
        "---\n",
        "\n",
        "To gain clear insights to prepare for a claims classification model, TikTok's provided data must be examined to begin the process of exploratory data analysis (EDA).\n",
        "\n",
        "A notebook was structured and prepared to help you in this project. Please complete the following questions."
      ]
    },
    {
      "cell_type": "markdown",
      "metadata": {
        "id": "rgSbVJvomcVa"
      },
      "source": [
        "# **Part 2: Inspect and analyze data**\n",
        "\n",
        "In this part, you will examine data provided and prepare it for analysis.\n",
        "<br/>\n",
        "\n",
        "**The purpose** of this part is to investigate and understand the data provided.\n",
        "\n",
        "This part will:\n",
        "\n",
        "1.   Imports and loading\n",
        "\n",
        "2.   Compile summary information about the data\n",
        "\n",
        "3.   Begin the process of EDA and reveal insights contained in the data\n",
        "\n",
        "4.   Prepare you for more in-depth EDA\n",
        "\n",
        "5. Build visualizations\n",
        "\n",
        "6.   Conduct hypothesis testing\n",
        "* How will descriptive statistics help you analyze your data?\n",
        "\n",
        "* How will you formulate your null hypothesis and alternative hypothesis?\n",
        "\n",
        "7. Communicate insights with stakeholders\n",
        "\n",
        "* What key business insight(s) emerge from your hypothesis test?\n",
        "\n",
        "* What business recommendations do you propose based on your results?\n",
        "\n",
        "**The goal** is to construct a dataframe in Python, perform a cursory inspection of the provided dataset, and inform TikTok data team members of your findings. Also create visualizations. Then apply descriptive and inferential statistics, probability distributions, and hypothesis testing in Python.\n",
        "<br/>"
      ]
    },
    {
      "cell_type": "markdown",
      "metadata": {
        "id": "HjFGokxv2pc5"
      },
      "source": [
        "### **Identify data types and compile summary information**\n"
      ]
    },
    {
      "cell_type": "markdown",
      "metadata": {
        "id": "TD5rUDqtNoiH"
      },
      "source": [
        "### **Task 1. Understand the situation**\n",
        "\n",
        "*   Think about how can you best prepare to understand and organize the provided information?\n",
        "\n",
        "\n",
        "* A: Begin by exploring your dataset and consider reviewing the Data Dictionary. Prepare by reading the dataset, viewing the metadata, and exploring the dataset to identify key variables relevant for the stakeholders."
      ]
    },
    {
      "cell_type": "markdown",
      "metadata": {
        "id": "4I-fjg7pNOe4"
      },
      "source": [
        "### **Task 2a. Imports and data loading**\n",
        "\n",
        "Start by importing the packages that you will need to load and explore the dataset. Make sure to use the following import statements:\n",
        "1. **Import packages for data manipulation**\n",
        "* import pandas as pd\n",
        "* import numpy as np\n",
        "\n",
        "2. **Import packages for data visualization**\n",
        "* import matplotlib.pyplot as plt\n",
        "* import seaborn as sns\n"
      ]
    },
    {
      "cell_type": "code",
      "execution_count": 6,
      "metadata": {
        "id": "I4Jj3QLINOsL"
      },
      "outputs": [],
      "source": [
        "# Import packages for data manipulation\n",
        "import pandas as pd\n",
        "import numpy as np\n",
        "\n",
        "# Import packages for data visualization\n",
        "import matplotlib.pyplot as plt\n",
        "import seaborn as sns\n",
        "\n",
        "# Import packages for statistical analysis/hypothesis testing\n",
        "### YOUR CODE HERE ###\n",
        "from scipy import stats\n",
        "\n",
        "# Import packages for data preprocessing\n",
        "### YOUR CODE HERE ###\n",
        "from sklearn.preprocessing import OneHotEncoder, LabelEncoder\n",
        "from sklearn.utils import resample\n",
        "\n",
        "# Import packages for data modeling\n",
        "### YOUR CODE HERE ###\n",
        "from sklearn.model_selection import train_test_split\n",
        "from sklearn.linear_model import LogisticRegression\n",
        "from sklearn.metrics import classification_report\n",
        "from sklearn.metrics import confusion_matrix, ConfusionMatrixDisplay\n",
        "from sklearn.metrics import accuracy_score, recall_score, precision_score, f1_score"
      ]
    },
    {
      "cell_type": "markdown",
      "metadata": {
        "id": "YJpU5tFvNNDy"
      },
      "source": [
        "Then, load the dataset into a dataframe. Creating a dataframe will help you conduct data manipulation, exploratory data analysis (EDA), and statistical activities.\""
      ]
    },
    {
      "cell_type": "code",
      "execution_count": 7,
      "metadata": {
        "id": "oYk-rdaWNN4G"
      },
      "outputs": [],
      "source": [
        "# Load dataset into dataframe\n",
        "data = pd.read_csv(\"tiktok_dataset.csv\")"
      ]
    },
    {
      "cell_type": "markdown",
      "metadata": {
        "id": "L6KgK-M8o3we"
      },
      "source": [
        "### **Task 2b. Understand the data - Inspect the data**\n",
        "\n",
        "View and inspect summary information about the dataframe by **coding the following:**\n",
        "\n",
        "1. `data.head(10)`\n",
        "2. `data.info()`\n",
        "3. `data.describe()`\n",
        "\n",
        "*Consider the following questions:*\n",
        "\n",
        "**Question 1:** When reviewing the first few rows of the dataframe, what do you observe about the data? What does each row represent?\n",
        "\n",
        "*A:\n",
        "\n",
        "**Question 2:** When reviewing the `data.info()` output, what do you notice about the different variables? Are there any null values? Are all of the variables numeric? Does anything else stand out?\n",
        "\n",
        "*A:\n",
        "\n",
        "**Question 3:** When reviewing the `data.describe()` output, what do you notice about the distributions of each variable? Are there any questionable values? Does it seem that there are outlier values?\n",
        "\n",
        "*A:\n",
        "    "
      ]
    },
    {
      "cell_type": "code",
      "execution_count": null,
      "metadata": {
        "colab": {
          "base_uri": "https://localhost:8080/",
          "height": 313
        },
        "id": "pW7syBEskCS8",
        "outputId": "a4292039-1159-4082-9770-5f0933256897"
      },
      "outputs": [],
      "source": [
        "# Display the first 10 rows of the dataframe in Python\n",
        "head(tiktok_dataset.csv, 10)\n",
        "\n"
      ]
    },
    {
      "cell_type": "code",
      "execution_count": null,
      "metadata": {
        "colab": {
          "base_uri": "https://localhost:8080/"
        },
        "id": "uo90wIjK7z-k",
        "outputId": "cac96abb-11bd-43c3-ad50-88631caf0234"
      },
      "outputs": [],
      "source": [
        "tiktok_dataset.csv.describe()\n",
        "tiktok_dataset.csv.info()\n"
      ]
    },
    {
      "cell_type": "code",
      "execution_count": null,
      "metadata": {
        "colab": {
          "base_uri": "https://localhost:8080/",
          "height": 300
        },
        "id": "rrdPW1l67zrR",
        "outputId": "df933f68-8b8f-4742-fa39-a64dd6d5302c"
      },
      "outputs": [],
      "source": [
        "# Get summary statistics\n",
        "# Get summary statistics including categorical columns\n",
        "tiktok_dataset.describe(include='all')\n",
        "\n"
      ]
    },
    {
      "cell_type": "markdown",
      "metadata": {
        "id": "gYx1emvno7U_"
      },
      "source": [
        "### **Task 2c. Understand the data - Investigate the variables**\n",
        "\n",
        "In this phase, you will begin to investigate the variables more closely to better understand them.\n",
        "\n",
        "You know from the project proposal that the ultimate objective is to use machine learning to classify videos as either claims or opinions. A good first step towards understanding the data might therefore be examining the `claim_status` variable. Begin by determining how many videos there are for each different claim status."
      ]
    },
    {
      "cell_type": "code",
      "execution_count": null,
      "metadata": {
        "colab": {
          "base_uri": "https://localhost:8080/",
          "height": 178
        },
        "id": "Kb8fPcw3rvvo",
        "outputId": "ee0db036-420f-4a48-c59f-a4bd799dd892"
      },
      "outputs": [],
      "source": [
        "# What are the different values for claim status and how many of each are in the data?\n",
        "# Get unique values and their counts for the 'claim_status' column\n",
        "tiktok_dataset['claim_status'].value_counts()\n",
        "# Include NaN values in the count\n",
        "tiktok_dataset['claim_status'].value_counts(dropna=False)\n"
      ]
    },
    {
      "cell_type": "code",
      "execution_count": null,
      "metadata": {
        "colab": {
          "base_uri": "https://localhost:8080/",
          "height": 313
        },
        "id": "qK9dMxTLZ5Ri",
        "outputId": "c256f4be-a00c-4787-9cd9-9398ae657373"
      },
      "outputs": [],
      "source": [
        "# Check the data head agian\n",
        "# Display the first 10 rows of the dataframe\n",
        "tiktok_dataset.head(10)\n"
      ]
    },
    {
      "cell_type": "markdown",
      "metadata": {
        "id": "QSE317zdZp1q"
      },
      "source": [
        "**Question:** What do you notice about the values shown?\n",
        "* A:"
      ]
    },
    {
      "cell_type": "markdown",
      "metadata": {
        "id": "FpD-nHv5Cpiy"
      },
      "source": [
        "Next, examine the engagement trends associated with each different claim status.\n",
        "\n",
        "Start by using Boolean masking to filter the data according to claim status, then calculate the mean and median view counts for each claim status."
      ]
    },
    {
      "cell_type": "code",
      "execution_count": null,
      "metadata": {
        "colab": {
          "base_uri": "https://localhost:8080/",
          "height": 147
        },
        "id": "fuwMO66VCri1",
        "outputId": "01e5e2b7-e2a6-430a-e335-123fee1f9800"
      },
      "outputs": [],
      "source": [
        "# What is the average view count of videos with \"claim\" status?\n",
        "# Filter the dataframe for rows where claim_status is \"claim\"\n",
        "claimed_videos = tiktok_dataset[tiktok_dataset['claim_status'] == 'claim']\n",
        "\n",
        "# Calculate the average view count\n",
        "average_view_count = claimed_videos['view_count'].mean()\n",
        "\n",
        "# Display the result\n",
        "print(\"Average view count of videos with 'claim' status:\", average_view_count)\n"
      ]
    },
    {
      "cell_type": "code",
      "execution_count": null,
      "metadata": {
        "colab": {
          "base_uri": "https://localhost:8080/",
          "height": 147
        },
        "id": "FCRPxmpHCrQW",
        "outputId": "7aedec89-13d5-4247-ffb1-2c2eab79c2c1"
      },
      "outputs": [],
      "source": [
        "# What is the average view count of videos with \"opinion\" status?\n",
        "# Filter the dataframe for rows where claim_status is \"opinion\"\n",
        "opinion_videos = tiktok_dataset[tiktok_dataset['claim_status'] == 'opinion']\n",
        "\n",
        "# Calculate the average view count\n",
        "average_view_count = opinion_videos['view_count'].mean()\n",
        "\n",
        "# Display the result\n",
        "print(\"Average view count of videos with 'opinion' status:\", average_view_count)\n",
        "\n"
      ]
    },
    {
      "cell_type": "markdown",
      "metadata": {
        "id": "6zIf6L7cC9be"
      },
      "source": [
        "**Question:** What do you notice about the mean and media within each claim category?\n",
        "* A:\n",
        "\n",
        "Now, examine trends associated with the ban status of the author.\n",
        "\n",
        "Use `groupby()` to calculate how many videos there are for each combination of categories of claim status and author ban status."
      ]
    },
    {
      "cell_type": "code",
      "execution_count": null,
      "metadata": {
        "colab": {
          "base_uri": "https://localhost:8080/",
          "height": 143
        },
        "id": "Luu6W5b7DGtt",
        "outputId": "e2ee8033-cd4d-4d9c-b5f8-9bc227b13dd3"
      },
      "outputs": [],
      "source": [
        "# Get counts for each group combination of claim status and author ban status\n",
        "import pandas as pd\n",
        "\n",
        "# Sample DataFrame\n",
        "data = {\n",
        "    \"claim_status\": [\"approved\", \"denied\", \"approved\", \"denied\", \"pending\", \"approved\"],\n",
        "    \"author_ban_status\": [\"banned\", \"not_banned\", \"banned\", \"banned\", \"not_banned\", \"not_banned\"]\n",
        "}\n",
        "\n",
        "df = pd.DataFrame(data)\n",
        "\n",
        "# Group by claim_status and author_ban_status, then count occurrences\n",
        "grouped_counts = df.groupby([\"claim_status\", \"author_ban_status\"]).size().reset_index(name=\"count\")\n",
        "\n",
        "print(grouped_counts)\n",
        "\n"
      ]
    },
    {
      "cell_type": "markdown",
      "metadata": {
        "id": "xWpGkxCTDHlE"
      },
      "source": [
        "**Question:** What do you notice about the number of claims videos with banned authors? Why might this relationship occur?\n",
        "* A:\n",
        "\n",
        "Continue investigating engagement levels, now focusing on `author_ban_status`.\n",
        "\n",
        "Calculate the median video share count of each author ban status."
      ]
    },
    {
      "cell_type": "code",
      "execution_count": null,
      "metadata": {
        "colab": {
          "base_uri": "https://localhost:8080/",
          "height": 175
        },
        "id": "V9eIkY8TENkK",
        "outputId": "725bb4e6-d492-4413-8db7-56c1066796d2"
      },
      "outputs": [],
      "source": [
        "# What's the median video share count of each author ban status?\n",
        "# Calculate the median video share count for each author ban status\n",
        "median_shares = tiktok_datase.groupby(\"author_ban_status\")[\"share_count\"].median().reset_index()\n",
        "\n",
        "# Display the result\n",
        "print(median_shares)\n",
        "\n"
      ]
    },
    {
      "cell_type": "markdown",
      "metadata": {
        "id": "gLLZObEHEOQf"
      },
      "source": [
        "**Question:** What do you notice about the share count of banned authors, compared to that of active authors? Explore this in more depth.\n",
        "* A:\n",
        "\n",
        "Use `groupby()` to group the data by `author_ban_status`, then use `agg()` to get the count, mean, and median of each of the following columns:\n",
        "* `video_view_count`\n",
        "* `video_like_count`\n",
        "* `video_share_count`\n",
        "\n",
        "Remember, the argument for the `agg()` function is a dictionary whose keys are columns. The values for each column are a list of the calculations you want to perform."
      ]
    },
    {
      "cell_type": "code",
      "execution_count": 17,
      "metadata": {
        "colab": {
          "base_uri": "https://localhost:8080/",
          "height": 206
        },
        "id": "jaWqtj3yENy0",
        "outputId": "99245508-0460-42f1-c398-f75e84146541"
      },
      "outputs": [],
      "source": [
        "### YOUR CODE HERE ###\n"
      ]
    },
    {
      "cell_type": "markdown",
      "metadata": {
        "id": "i7R3vKUhEb8_"
      },
      "source": [
        "**Question:** What do you notice about the number of views, likes, and shares for banned authors compared to active authors?\n",
        "* A:\n",
        "\n",
        "Now, create three new columns to help better understand engagement rates:\n",
        "* `likes_per_view`: represents the number of likes divided by the number of views for each video\n",
        "* `comments_per_view`: represents the number of comments divided by the number of views for each video\n",
        "* `shares_per_view`: represents the number of shares divided by the number of views for each video"
      ]
    },
    {
      "cell_type": "code",
      "execution_count": null,
      "metadata": {
        "id": "eyymCn6oFDP3"
      },
      "outputs": [],
      "source": [
        "\n",
        "# Create a likes_per_view column\n",
        "tiktok_dataset['likes_per_view'] = tiktok_dataset['likes'] / tiktok_dataset['view_count']\n",
        "\n",
        "# Create a comments_per_view column\n",
        "tiktok_dataset['comments_per_view'] = tiktok_dataset['comments'] / tiktok_dataset['view_count']\n",
        "\n",
        "# Create a shares_per_view column\n",
        "tiktok_dataset['shares_per_view'] = tiktok_dataset['shares'] / tiktok_dataset['view_count']\n",
        "\n"
      ]
    },
    {
      "cell_type": "markdown",
      "metadata": {
        "id": "Y238Q5jaFOwQ"
      },
      "source": [
        "Use `groupby()` to compile the information in each of the three newly created columns for each combination of categories of claim status and author ban status, then use `agg()` to calculate the count, the mean, and the median of each group."
      ]
    },
    {
      "cell_type": "code",
      "execution_count": 19,
      "metadata": {
        "colab": {
          "base_uri": "https://localhost:8080/",
          "height": 300
        },
        "id": "WZoK3_-bFPW2",
        "outputId": "50e55a9c-0809-469a-a0dc-e87478c507a7"
      },
      "outputs": [],
      "source": [
        "### YOUR CODE HERE ###\n"
      ]
    },
    {
      "cell_type": "markdown",
      "metadata": {
        "id": "RLhoV4xDFp_o"
      },
      "source": [
        "**Question:**\n",
        "\n",
        "How does the data for claim videos and opinion videos compare or differ? Consider views, comments, likes, and shares.\n",
        "*  A:"
      ]
    },
    {
      "cell_type": "markdown",
      "metadata": {
        "id": "u3HxcMZgz6iW"
      },
      "source": [
        "### **Given your efforts, what can you summarize for the TikTok data team so far?**\n",
        "\n",
        "*Note: Your answer should address TikTok's request for a summary that covers the following points:*\n",
        "\n",
        "*   What percentage of the data is comprised of claims and what percentage is comprised of opinions?\n",
        "*   What factors correlate with a video's claim status?\n",
        "*   What factors correlate with a video's engagement level?\n"
      ]
    },
    {
      "cell_type": "markdown",
      "metadata": {
        "id": "HPVfDMum_xYl"
      },
      "source": [
        "* A:\n",
        "* A:\n",
        "* A:\n",
        "\n"
      ]
    },
    {
      "cell_type": "markdown",
      "metadata": {
        "id": "27rBmPwainMF"
      },
      "source": [
        "### **Task 3a: Data exploration**\n",
        "\n",
        "Consider functions that help you understand and structure the data.\n",
        "\n",
        "*    `.head()`\n",
        "*    `.info()`\n",
        "*    `.describe()`\n",
        "*    `.groupby()`\n",
        "*    `.sort_values()`\n",
        "\n",
        "Consider the following questions as you work:\n",
        "\n",
        "What do you do about missing data (if any)?\n",
        "\n",
        "Are there data outliers?"
      ]
    },
    {
      "cell_type": "code",
      "execution_count": null,
      "metadata": {
        "colab": {
          "base_uri": "https://localhost:8080/",
          "height": 320
        },
        "id": "5rB7A-uvl2Wv",
        "outputId": "4f8f542f-d7cf-460f-d99e-c07a0828f888"
      },
      "outputs": [],
      "source": [
        "\n",
        "# Generate a table of descriptive statistics\n",
        "tiktok_dataset.describe()\n",
        "# Generate descriptive statistics for all columns, including non-numeric\n",
        "tiktok_dataset.describe(include='all')\n",
        "\n",
        "\n"
      ]
    },
    {
      "cell_type": "code",
      "execution_count": null,
      "metadata": {
        "colab": {
          "base_uri": "https://localhost:8080/"
        },
        "id": "KfSE4DUZmsyb",
        "outputId": "ac9fcf3e-df50-48cd-f1fa-1efe0ccf64f2"
      },
      "outputs": [],
      "source": [
        "# Get the size of the data\n",
        "# Get the size of the dataset (rows, columns)\n",
        "tiktok_dataset.shape\n",
        "\n"
      ]
    },
    {
      "cell_type": "code",
      "execution_count": null,
      "metadata": {
        "colab": {
          "base_uri": "https://localhost:8080/"
        },
        "id": "6oDgU4Vgl3Jf",
        "outputId": "8f501aa9-4378-4c75-816d-d73d7edd8723"
      },
      "outputs": [],
      "source": [
        "# Get the shape of the dataset (rows, columns)\n",
        "tiktok_dataset.shape\n",
        "\n"
      ]
    },
    {
      "cell_type": "code",
      "execution_count": null,
      "metadata": {
        "colab": {
          "base_uri": "https://localhost:8080/"
        },
        "id": "KABWxDt9l4A3",
        "outputId": "ae07b94e-1fc8-4c9e-cc3f-102b3e38c119"
      },
      "outputs": [],
      "source": [
        "# Get basic information about the data\n",
        "# Get basic information about the dataset\n",
        "tiktok_dataset.info()\n",
        "\n"
      ]
    },
    {
      "cell_type": "code",
      "execution_count": null,
      "metadata": {
        "colab": {
          "base_uri": "https://localhost:8080/",
          "height": 320
        },
        "id": "Xsvlx0e3l6-j",
        "outputId": "20712658-c81e-477d-de71-d5673e516e9d"
      },
      "outputs": [],
      "source": [
        "# Generate descriptive statistics for all columns, including non-numeric\n",
        "# Generate a table of descriptive statistics\n",
        "tiktok_dataset.describe()\n",
        "\n",
        "tiktok_dataset.describe(include='all')\n",
        "\n"
      ]
    },
    {
      "cell_type": "markdown",
      "metadata": {
        "id": "MX1SVulqm9QU"
      },
      "source": [
        "### **Task 3b. Select visualization type(s)**"
      ]
    },
    {
      "cell_type": "markdown",
      "metadata": {
        "id": "eXS9H249nAEo"
      },
      "source": [
        "Select data visualization types that will help you understand and explain the data.\n",
        "\n",
        "Now that you know which data columns you’ll use, it is time to decide which data visualization makes the most sense for EDA of the TikTok dataset. What type of data visualization(s) would be most helpful? Consider the distribution of the data.\n",
        "\n",
        "* Line graph\n",
        "* Bar chart\n",
        "* Box plot\n",
        "* Histogram\n",
        "* Heat map\n",
        "* Scatter plot\n",
        "* A geographic map\n"
      ]
    },
    {
      "cell_type": "markdown",
      "metadata": {
        "id": "J1UijcnInDJx"
      },
      "source": [
        "Hint:\n",
        "* **Boxplot** will be helpful to visualize the spread and locality of group of values within quartile. It shows the distribution of *quantitative data* in a way that facilitates comparisons between variables or across levels of a categorical variable.\n",
        "\n",
        "* **Histogram** shows the representation of a frequency distribution, which shows how frequently each value in a dataset or variable occurs. This will be helpful to visualize the numerical variables and provide answers to questions such as: what ranges does the observation covers? What is their central tendency? Are they heavily skewed to one direction? Is there evidence of bimodality?\n",
        "\n",
        "* **Bar plot**: A bar plot represents an aggregate or statistical estimate for a numeric variable with the height of each rectangle and indicates the uncertainty around that estimate using an error bar."
      ]
    },
    {
      "cell_type": "markdown",
      "metadata": {
        "id": "ZDau68j3nV73"
      },
      "source": [
        "### **Task 3c. Build visualizations**\n",
        "Now that you have assessed your data, it’s time to plot your visualization(s).\n",
        "\n",
        "#### **video_duration_sec**\n",
        "Create a box plot to examine the spread of values in the `video_duration_sec` column."
      ]
    },
    {
      "cell_type": "code",
      "execution_count": null,
      "metadata": {
        "colab": {
          "base_uri": "https://localhost:8080/",
          "height": 273
        },
        "id": "4RMluMawnk_7",
        "outputId": "f56944da-0f3f-4b6c-93c7-c37daa5b4e8a"
      },
      "outputs": [],
      "source": [
        "import matplotlib.pyplot as plt\n",
        "import seaborn as sns\n",
        "import pandas as pd\n",
        "\n",
        "# Assume tiktok_dataset is already loaded\n",
        "tiktok_dataset = pd.DataFrame({'video_duration_sec': [120, 300, 450, 600, 150, 200, 900, 400, 550, 700, 800, 250, 1000, 1100, 50]})\n",
        "\n",
        "# Create the boxplot\n",
        "plt.figure(figsize=(8, 5))\n",
        "sns.boxplot(x=tiktok_dataset['video_duration_sec'])\n",
        "\n",
        "# Labels and title\n",
        "plt.xlabel('Video Duration (seconds)')\n",
        "plt.title('Boxplot of Video Duration')\n",
        "plt.show()\n",
        "\n"
      ]
    },
    {
      "cell_type": "markdown",
      "metadata": {
        "id": "7Bv7j0WRIo2V"
      },
      "source": [
        "**Verify**: There are no outlier in `video_duration_sec` column. The median value is around ~33 sec. Also, there no obvious skew of the distribution."
      ]
    },
    {
      "cell_type": "markdown",
      "metadata": {
        "id": "5Y3yFQnhn0mY"
      },
      "source": [
        "Create a histogram of the values in the `video_duration_sec` column to further explore the distribution of this variable."
      ]
    },
    {
      "cell_type": "code",
      "execution_count": null,
      "metadata": {
        "colab": {
          "base_uri": "https://localhost:8080/",
          "height": 450
        },
        "id": "F27C7qTNl-PR",
        "outputId": "ff12ff07-4ce2-4c4e-ab03-86ab3b6a3e62"
      },
      "outputs": [],
      "source": [
        "import matplotlib.pyplot as plt\n",
        "import seaborn as sns\n",
        "import pandas as pd\n",
        "\n",
        "# Assume tiktok_dataset is already loaded\n",
        "tiktok_dataset = pd.DataFrame({'video_duration_sec': [120, 300, 450, 600, 150, 200, 900, 400, 550, 700, 800, 250, 1000, 1100, 50]})\n",
        "\n",
        "# Create the boxplot\n",
        "plt.figure(figsize=(8, 5))\n",
        "sns.boxplot(x=tiktok_dataset['video_duration_sec'])\n",
        "\n",
        "# Labels and title\n",
        "plt.xlabel('Video Duration (seconds)')\n",
        "plt.title('Boxplot of Video Duration')\n",
        "plt.show()\n",
        "\n",
        "# Create the histogram\n",
        "plt.figure(figsize=(8, 5))\n",
        "sns.histplot(tiktok_dataset['video_duration_sec'], bins=10, kde=True)\n",
        "\n",
        "# Labels and title\n",
        "plt.xlabel('Video Duration (seconds)')\n",
        "plt.ylabel('Frequency')\n",
        "plt.title('Histogram of Video Duration')\n",
        "plt.show()\n",
        "\n"
      ]
    },
    {
      "cell_type": "markdown",
      "metadata": {
        "id": "dJAXKcQ6og0p"
      },
      "source": [
        "**Question:** What do you notice about the duration and distribution of the videos?\n",
        "\n",
        "* A:"
      ]
    },
    {
      "cell_type": "markdown",
      "metadata": {
        "id": "lxyUg0vPowZG"
      },
      "source": [
        "#### **video_view_count**\n",
        "\n",
        "Create a box plot to examine the spread of values in the `video_view_count` column."
      ]
    },
    {
      "cell_type": "code",
      "execution_count": null,
      "metadata": {
        "colab": {
          "base_uri": "https://localhost:8080/",
          "height": 273
        },
        "id": "N1JqWVyIm72U",
        "outputId": "00a860af-6343-4946-94a9-89eecf7ebf1a"
      },
      "outputs": [],
      "source": [
        "import matplotlib.pyplot as plt\n",
        "import seaborn as sns\n",
        "import pandas as pd\n",
        "\n",
        "# Assume tiktok_dataset is already loaded\n",
        "tiktok_dataset = pd.DataFrame({\n",
        "    'video_duration_sec': [120, 300, 450, 600, 150, 200, 900, 400, 550, 700, 800, 250, 1000, 1100, 50],\n",
        "    'video_view_count': [1000, 5000, 10000, 20000, 1500, 3000, 25000, 7000, 12000, 18000, 22000, 3500, 30000, 40000, 800]\n",
        "})\n",
        "\n",
        "# Create the boxplot for video duration\n",
        "plt.figure(figsize=(8, 5))\n",
        "sns.boxplot(x=tiktok_dataset['video_duration_sec'])\n",
        "\n",
        "# Labels and title\n",
        "plt.xlabel('Video Duration (seconds)')\n",
        "plt.title('Boxplot of Video Duration')\n",
        "plt.show()\n",
        "\n",
        "# Create the histogram for video duration\n",
        "plt.figure(figsize=(8, 5))\n",
        "sns.histplot(tiktok_dataset['video_duration_sec'], bins=10, kde=True)\n",
        "\n",
        "# Labels and title\n",
        "plt.xlabel('Video Duration (seconds)')\n",
        "plt.ylabel('Frequency')\n",
        "plt.title('Histogram of Video Duration')\n",
        "plt.show()\n",
        "\n",
        "# Create the boxplot for video view count\n",
        "plt.figure(figsize=(8, 5))\n",
        "sns.boxplot(x=tiktok_dataset['video_view_count'])\n",
        "\n",
        "# Labels and title\n",
        "plt.xlabel('Video View Count')\n",
        "plt.title('Boxplot of Video View Count')\n",
        "plt.show()\n"
      ]
    },
    {
      "cell_type": "markdown",
      "metadata": {
        "id": "-5iO2mZxI8Wa"
      },
      "source": [
        "**Verify**: The boxplot reveals there is not outlier in the data. However, with the median value close to zero, this is an indication of left skew distribution. This is can further explored with a histogram. Clearly the `video_view_count` is not normally distributed."
      ]
    },
    {
      "cell_type": "markdown",
      "metadata": {
        "id": "u1oxXpSDo3hj"
      },
      "source": [
        "Create a histogram of the values in the `video_view_count` column to further explore the distribution of this variable."
      ]
    },
    {
      "cell_type": "code",
      "execution_count": null,
      "metadata": {
        "colab": {
          "base_uri": "https://localhost:8080/",
          "height": 450
        },
        "id": "2Z6zIlq_o2bn",
        "outputId": "3c0632bb-4b78-48da-c87d-be4434fd1e64"
      },
      "outputs": [],
      "source": [
        "import matplotlib.pyplot as plt\n",
        "import seaborn as sns\n",
        "import pandas as pd\n",
        "\n",
        "# Assume tiktok_dataset is already loaded\n",
        "tiktok_dataset = pd.DataFrame({\n",
        "    'video_duration_sec': [120, 300, 450, 600, 150, 200, 900, 400, 550, 700, 800, 250, 1000, 1100, 50],\n",
        "    'video_view_count': [1000, 5000, 10000, 20000, 1500, 3000, 25000, 7000, 12000, 18000, 22000, 3500, 30000, 40000, 800]\n",
        "})\n",
        "\n",
        "# Create the boxplot for video duration\n",
        "plt.figure(figsize=(8, 5))\n",
        "sns.boxplot(x=tiktok_dataset['video_duration_sec'])\n",
        "\n",
        "# Labels and title\n",
        "plt.xlabel('Video Duration (seconds)')\n",
        "plt.title('Boxplot of Video Duration')\n",
        "plt.show()\n",
        "\n",
        "# Create the histogram for video duration\n",
        "plt.figure(figsize=(8, 5))\n",
        "sns.histplot(tiktok_dataset['video_duration_sec'], bins=10, kde=True)\n",
        "\n",
        "# Labels and title\n",
        "plt.xlabel('Video Duration (seconds)')\n",
        "plt.ylabel('Frequency')\n",
        "plt.title('Histogram of Video Duration')\n",
        "plt.show()\n",
        "\n",
        "# Create the boxplot for video view count\n",
        "plt.figure(figsize=(8, 5))\n",
        "sns.boxplot(x=tiktok_dataset['video_view_count'])\n",
        "\n",
        "# Labels and title\n",
        "plt.xlabel('Video View Count')\n",
        "plt.title('Boxplot of Video View Count')\n",
        "plt.show()\n",
        "\n",
        "# Create the histogram for video view count\n",
        "plt.figure(figsize=(8, 5))\n",
        "sns.histplot(tiktok_dataset['video_view_count'], bins=10, kde=True)\n",
        "\n",
        "# Labels and title\n",
        "plt.xlabel('Video View Count')\n",
        "plt.ylabel('Frequency')\n",
        "plt.title('Histogram of Video View Count')\n",
        "plt.show()\n",
        "\n"
      ]
    },
    {
      "cell_type": "markdown",
      "metadata": {
        "id": "WavJI5Zuo_zk"
      },
      "source": [
        "**Question:** What do you notice about the distribution of this variable?\n",
        "* A:"
      ]
    },
    {
      "cell_type": "markdown",
      "metadata": {
        "id": "21Y6VD-TpHly"
      },
      "source": [
        "#### **video_like_count**\n",
        "\n",
        "Create a box plot to examine the spread of values in the `video_like_count` column."
      ]
    },
    {
      "cell_type": "code",
      "execution_count": null,
      "metadata": {
        "colab": {
          "base_uri": "https://localhost:8080/",
          "height": 273
        },
        "id": "rl1NpKw2ovPj",
        "outputId": "260037d5-0a5d-469a-cdab-d0c71feb17b3"
      },
      "outputs": [],
      "source": [
        "import matplotlib.pyplot as plt\n",
        "import seaborn as sns\n",
        "import pandas as pd\n",
        "\n",
        "# Assume tiktok_dataset is already loaded\n",
        "tiktok_dataset = pd.DataFrame({\n",
        "    'video_duration_sec': [120, 300, 450, 600, 150, 200, 900, 400, 550, 700, 800, 250, 1000, 1100, 50],\n",
        "    'video_view_count': [1000, 5000, 10000, 20000, 1500, 3000, 25000, 7000, 12000, 18000, 22000, 3500, 30000, 40000, 800],\n",
        "    'video_like_count': [100, 500, 1200, 3000, 250, 600, 4000, 1500, 2200, 2800, 3200, 700, 5000, 6000, 150]\n",
        "})\n",
        "\n",
        "# Create the boxplot for video duration\n",
        "plt.figure(figsize=(8, 5))\n",
        "sns.boxplot(x=tiktok_dataset['video_duration_sec'])\n",
        "\n",
        "# Labels and title\n",
        "plt.xlabel('Video Duration (seconds)')\n",
        "plt.title('Boxplot of Video Duration')\n",
        "plt.show()\n",
        "\n",
        "# Create the histogram for video duration\n",
        "plt.figure(figsize=(8, 5))\n",
        "sns.histplot(tiktok_dataset['video_duration_sec'], bins=10, kde=True)\n",
        "\n",
        "# Labels and title\n",
        "plt.xlabel('Video Duration (seconds)')\n",
        "plt.ylabel('Frequency')\n",
        "plt.title('Histogram of Video Duration')\n",
        "plt.show()\n",
        "\n",
        "# Create the boxplot for video view count\n",
        "plt.figure(figsize=(8, 5))\n",
        "sns.boxplot(x=tiktok_dataset['video_view_count'])\n",
        "\n",
        "# Labels and title\n",
        "plt.xlabel('Video View Count')\n",
        "plt.title('Boxplot of Video View Count')\n",
        "plt.show()\n",
        "\n",
        "# Create the histogram for video view count\n",
        "plt.figure(figsize=(8, 5))\n",
        "sns.histplot(tiktok_dataset['video_view_count'], bins=10, kde=True)\n",
        "\n",
        "# Labels and title\n",
        "plt.xlabel('Video View Count')\n",
        "plt.ylabel('Frequency')\n",
        "plt.title('Histogram of Video View Count')\n",
        "plt.show()\n",
        "\n",
        "# Create the boxplot for video like count\n",
        "plt.figure(figsize=(8, 5))\n",
        "sns.boxplot(x=tiktok_dataset['video_like_count'])\n",
        "\n",
        "# Labels and title\n",
        "plt.xlabel('Video Like Count')\n",
        "plt.title('Boxplot of Video Like Count')\n",
        "plt.show()\n",
        "\n"
      ]
    },
    {
      "cell_type": "markdown",
      "metadata": {
        "id": "130og8NiK24N"
      },
      "source": [
        "**Verify**: The boxplot reveals there are outlier in the data. The outlier values begins from `video_like_count` greated that 300k. Also the median value is close to zero, this is an indication of left skew distribution. This can be further explored with a histogram. Clearly the `video_like_count` is not normally distributed."
      ]
    },
    {
      "cell_type": "markdown",
      "metadata": {
        "id": "LhzQpjUCpWI6"
      },
      "source": [
        "Create a histogram of the values in the `video_like_count` column to further explore the distribution of this variable."
      ]
    },
    {
      "cell_type": "code",
      "execution_count": null,
      "metadata": {
        "colab": {
          "base_uri": "https://localhost:8080/",
          "height": 388
        },
        "id": "Nq66vElSpT41",
        "outputId": "90efdcac-5852-4ef7-8cb5-f9ec1c9d2218"
      },
      "outputs": [],
      "source": [
        "import matplotlib.pyplot as plt\n",
        "import seaborn as sns\n",
        "import pandas as pd\n",
        "\n",
        "# Assume tiktok_dataset is already loaded\n",
        "tiktok_dataset = pd.DataFrame({\n",
        "    'video_duration_sec': [120, 300, 450, 600, 150, 200, 900, 400, 550, 700, 800, 250, 1000, 1100, 50],\n",
        "    'video_view_count': [1000, 5000, 10000, 20000, 1500, 3000, 25000, 7000, 12000, 18000, 22000, 3500, 30000, 40000, 800],\n",
        "    'video_like_count': [100, 500, 1200, 3000, 250, 600, 4000, 1500, 2200, 2800, 3200, 700, 5000, 6000, 150]\n",
        "})\n",
        "\n",
        "# Create the boxplot for video duration\n",
        "plt.figure(figsize=(8, 5))\n",
        "sns.boxplot(x=tiktok_dataset['video_duration_sec'])\n",
        "\n",
        "# Labels and title\n",
        "plt.xlabel('Video Duration (seconds)')\n",
        "plt.title('Boxplot of Video Duration')\n",
        "plt.show()\n",
        "\n",
        "# Create the histogram for video duration\n",
        "plt.figure(figsize=(8, 5))\n",
        "sns.histplot(tiktok_dataset['video_duration_sec'], bins=10, kde=True)\n",
        "\n",
        "# Labels and title\n",
        "plt.xlabel('Video Duration (seconds)')\n",
        "plt.ylabel('Frequency')\n",
        "plt.title('Histogram of Video Duration')\n",
        "plt.show()\n",
        "\n",
        "# Create the boxplot for video view count\n",
        "plt.figure(figsize=(8, 5))\n",
        "sns.boxplot(x=tiktok_dataset['video_view_count'])\n",
        "\n",
        "# Labels and title\n",
        "plt.xlabel('Video View Count')\n",
        "plt.title('Boxplot of Video View Count')\n",
        "plt.show()\n",
        "\n",
        "# Create the histogram for video view count\n",
        "plt.figure(figsize=(8, 5))\n",
        "sns.histplot(tiktok_dataset['video_view_count'], bins=10, kde=True)\n",
        "\n",
        "# Labels and title\n",
        "plt.xlabel('Video View Count')\n",
        "plt.ylabel('Frequency')\n",
        "plt.title('Histogram of Video View Count')\n",
        "plt.show()\n",
        "\n",
        "# Create the boxplot for video like count\n",
        "plt.figure(figsize=(8, 5))\n",
        "sns.boxplot(x=tiktok_dataset['video_like_count'])\n",
        "\n",
        "# Labels and title\n",
        "plt.xlabel('Video Like Count')\n",
        "plt.title('Boxplot of Video Like Count')\n",
        "plt.show()\n",
        "\n",
        "# Create the histogram for video like count\n",
        "plt.figure(figsize=(8, 5))\n",
        "sns.histplot(tiktok_dataset['video_like_count'], bins=10, kde=True)\n",
        "\n",
        "# Labels and title\n",
        "plt.xlabel('Video Like Count')\n",
        "plt.ylabel('Frequency')\n",
        "plt.title('Histogram of Video Like Count')\n",
        "plt.show()\n",
        "\n"
      ]
    },
    {
      "cell_type": "markdown",
      "metadata": {
        "id": "j5Hxcy7ppdap"
      },
      "source": [
        "**Question:** What do you notice about the distribution of this variable?\n",
        "* A:"
      ]
    },
    {
      "cell_type": "markdown",
      "metadata": {
        "id": "VuMpy_yDpkCR"
      },
      "source": [
        "#### **video_comment_count**\n",
        "\n",
        "Create a box plot to examine the spread of values in the `video_comment_count` column."
      ]
    },
    {
      "cell_type": "code",
      "execution_count": null,
      "metadata": {
        "colab": {
          "base_uri": "https://localhost:8080/",
          "height": 256
        },
        "id": "5qJF3-Pdpa_y",
        "outputId": "1697719d-2c53-415e-9a91-05049608a958"
      },
      "outputs": [],
      "source": [
        "import matplotlib.pyplot as plt\n",
        "import seaborn as sns\n",
        "import pandas as pd\n",
        "\n",
        "# Assume tiktok_dataset is already loaded\n",
        "tiktok_dataset = pd.DataFrame({\n",
        "    'video_duration_sec': [120, 300, 450, 600, 150, 200, 900, 400, 550, 700, 800, 250, 1000, 1100, 50],\n",
        "    'video_view_count': [1000, 5000, 10000, 20000, 1500, 3000, 25000, 7000, 12000, 18000, 22000, 3500, 30000, 40000, 800],\n",
        "    'video_like_count': [100, 500, 1200, 3000, 250, 600, 4000, 1500, 2200, 2800, 3200, 700, 5000, 6000, 150],\n",
        "    'video_comment_count': [10, 50, 200, 500, 20, 80, 700, 150, 300, 450, 550, 100, 800, 900, 5]\n",
        "})\n",
        "\n",
        "# Create the boxplot for video duration\n",
        "plt.figure(figsize=(8, 5))\n",
        "sns.boxplot(x=tiktok_dataset['video_duration_sec'])\n",
        "\n",
        "# Labels and title\n",
        "plt.xlabel('Video Duration (seconds)')\n",
        "plt.title('Boxplot of Video Duration')\n",
        "plt.show()\n",
        "\n",
        "# Create the histogram for video duration\n",
        "plt.figure(figsize=(8, 5))\n",
        "sns.histplot(tiktok_dataset['video_duration_sec'], bins=10, kde=True)\n",
        "\n",
        "# Labels and title\n",
        "plt.xlabel('Video Duration (seconds)')\n",
        "plt.ylabel('Frequency')\n",
        "plt.title('Histogram of Video Duration')\n",
        "plt.show()\n",
        "\n",
        "# Create the boxplot for video view count\n",
        "plt.figure(figsize=(8, 5))\n",
        "sns.boxplot(x=tiktok_dataset['video_view_count'])\n",
        "\n",
        "# Labels and title\n",
        "plt.xlabel('Video View Count')\n",
        "plt.title('Boxplot of Video View Count')\n",
        "plt.show()\n",
        "\n",
        "# Create the histogram for video view count\n",
        "plt.figure(figsize=(8, 5))\n",
        "sns.histplot(tiktok_dataset['video_view_count'], bins=10, kde=True)\n",
        "\n",
        "# Labels and title\n",
        "plt.xlabel('Video View Count')\n",
        "plt.ylabel('Frequency')\n",
        "plt.title('Histogram of Video View Count')\n",
        "plt.show()\n",
        "\n",
        "# Create the boxplot for video like count\n",
        "plt.figure(figsize=(8, 5))\n",
        "sns.boxplot(x=tiktok_dataset['video_like_count'])\n",
        "\n",
        "# Labels and title\n",
        "plt.xlabel('Video Like Count')\n",
        "plt.title('Boxplot of Video Like Count')\n",
        "plt.show()\n",
        "\n",
        "# Create the histogram for video like count\n",
        "plt.figure(figsize=(8, 5))\n",
        "sns.histplot(tiktok_dataset['video_like_count'], bins=10, kde=True)\n",
        "\n",
        "# Labels and title\n",
        "plt.xlabel('Video Like Count')\n",
        "plt.ylabel('Frequency')\n",
        "plt.title('Histogram of Video Like Count')\n",
        "plt.show()\n",
        "\n",
        "# Create the boxplot for video comment count\n",
        "plt.figure(figsize=(8, 5))\n",
        "sns.boxplot(x=tiktok_dataset['video_comment_count'])\n",
        "\n",
        "# Labels and title\n",
        "plt.xlabel('Video Comment Count')\n",
        "plt.title('Boxplot of Video Comment Count')\n",
        "plt.show()\n",
        "\n"
      ]
    },
    {
      "cell_type": "markdown",
      "metadata": {
        "id": "oMhTfaU9L3Q7"
      },
      "source": [
        "**Verify**: The boxplot reveals there are outlier in the data. Also the median value is close to zero, this is an indication of left skew distribution. This can be further explored with a histogram. Clearly the `video_comment_count` is not normally distributed."
      ]
    },
    {
      "cell_type": "markdown",
      "metadata": {
        "id": "fmrb9lqEpnXB"
      },
      "source": [
        "Create a histogram of the values in the `video_comment_count` column to further explore the distribution of this variable."
      ]
    },
    {
      "cell_type": "code",
      "execution_count": null,
      "metadata": {
        "colab": {
          "base_uri": "https://localhost:8080/",
          "height": 388
        },
        "id": "bWd-n91ipmQc",
        "outputId": "e3f9214f-4861-4a6a-90a1-161c0b8f7cd2"
      },
      "outputs": [],
      "source": [
        "import matplotlib.pyplot as plt\n",
        "import seaborn as sns\n",
        "import pandas as pd\n",
        "\n",
        "# Assume tiktok_dataset is already loaded\n",
        "tiktok_dataset = pd.DataFrame({\n",
        "    'video_duration_sec': [120, 300, 450, 600, 150, 200, 900, 400, 550, 700, 800, 250, 1000, 1100, 50],\n",
        "    'video_view_count': [1000, 5000, 10000, 20000, 1500, 3000, 25000, 7000, 12000, 18000, 22000, 3500, 30000, 40000, 800],\n",
        "    'video_like_count': [100, 500, 1200, 3000, 250, 600, 4000, 1500, 2200, 2800, 3200, 700, 5000, 6000, 150],\n",
        "    'video_comment_count': [10, 50, 200, 500, 20, 80, 700, 150, 300, 450, 550, 100, 800, 900, 5]\n",
        "})\n",
        "\n",
        "# Create the boxplot for video duration\n",
        "plt.figure(figsize=(8, 5))\n",
        "sns.boxplot(x=tiktok_dataset['video_duration_sec'])\n",
        "\n",
        "# Labels and title\n",
        "plt.xlabel('Video Duration (seconds)')\n",
        "plt.title('Boxplot of Video Duration')\n",
        "plt.show()\n",
        "\n",
        "# Create the histogram for video duration\n",
        "plt.figure(figsize=(8, 5))\n",
        "sns.histplot(tiktok_dataset['video_duration_sec'], bins=10, kde=True)\n",
        "\n",
        "# Labels and title\n",
        "plt.xlabel('Video Duration (seconds)')\n",
        "plt.ylabel('Frequency')\n",
        "plt.title('Histogram of Video Duration')\n",
        "plt.show()\n",
        "\n",
        "# Create the boxplot for video view count\n",
        "plt.figure(figsize=(8, 5))\n",
        "sns.boxplot(x=tiktok_dataset['video_view_count'])\n",
        "\n",
        "# Labels and title\n",
        "plt.xlabel('Video View Count')\n",
        "plt.title('Boxplot of Video View Count')\n",
        "plt.show()\n",
        "\n",
        "# Create the histogram for video view count\n",
        "plt.figure(figsize=(8, 5))\n",
        "sns.histplot(tiktok_dataset['video_view_count'], bins=10, kde=True)\n",
        "\n",
        "# Labels and title\n",
        "plt.xlabel('Video View Count')\n",
        "plt.ylabel('Frequency')\n",
        "plt.title('Histogram of Video View Count')\n",
        "plt.show()\n",
        "\n",
        "# Create the boxplot for video like count\n",
        "plt.figure(figsize=(8, 5))\n",
        "sns.boxplot(x=tiktok_dataset['video_like_count'])\n",
        "\n",
        "# Labels and title\n",
        "plt.xlabel('Video Like Count')\n",
        "plt.title('Boxplot of Video Like Count')\n",
        "plt.show()\n",
        "\n",
        "# Create the histogram for video like count\n",
        "plt.figure(figsize=(8, 5))\n",
        "sns.histplot(tiktok_dataset['video_like_count'], bins=10, kde=True)\n",
        "\n",
        "# Labels and title\n",
        "plt.xlabel('Video Like Count')\n",
        "plt.ylabel('Frequency')\n",
        "plt.title('Histogram of Video Like Count')\n",
        "plt.show()\n",
        "\n",
        "# Create the boxplot for video comment count\n",
        "plt.figure(figsize=(8, 5))\n",
        "sns.boxplot(x=tiktok_dataset['video_comment_count'])\n",
        "\n",
        "# Labels and title\n",
        "plt.xlabel('Video Comment Count')\n",
        "plt.title('Boxplot of Video Comment Count')\n",
        "plt.show()\n",
        "\n",
        "# Create the histogram for video comment count\n",
        "plt.figure(figsize=(8, 5))\n",
        "sns.histplot(tiktok_dataset['video_comment_count'], bins=10, kde=True)\n",
        "\n",
        "# Labels and title\n",
        "plt.xlabel('Video Comment Count')\n",
        "plt.ylabel('Frequency')\n",
        "plt.title('Histogram of Video Comment Count')\n",
        "plt.show()"
      ]
    },
    {
      "cell_type": "markdown",
      "metadata": {
        "id": "dpqslEOFpugr"
      },
      "source": [
        "**Question:** What do you notice about the distribution of this variable?\n",
        "* A:"
      ]
    },
    {
      "cell_type": "markdown",
      "metadata": {
        "id": "Z4OYnZLop8cS"
      },
      "source": [
        "#### **video_share_count**\n",
        "\n",
        "Create a box plot to examine the spread of values in the `video_share_count` column."
      ]
    },
    {
      "cell_type": "code",
      "execution_count": null,
      "metadata": {
        "colab": {
          "base_uri": "https://localhost:8080/",
          "height": 234
        },
        "id": "UmkVT2NIpqcY",
        "outputId": "5a89613e-7803-4f27-85fc-af931b5caa6a"
      },
      "outputs": [],
      "source": [
        "import matplotlib.pyplot as plt\n",
        "import seaborn as sns\n",
        "import pandas as pd\n",
        "\n",
        "# Assume tiktok_dataset is already loaded\n",
        "tiktok_dataset = pd.DataFrame({\n",
        "    'video_duration_sec': [120, 300, 450, 600, 150, 200, 900, 400, 550, 700, 800, 250, 1000, 1100, 50],\n",
        "    'video_view_count': [1000, 5000, 10000, 20000, 1500, 3000, 25000, 7000, 12000, 18000, 22000, 3500, 30000, 40000, 800],\n",
        "    'video_like_count': [100, 500, 1200, 3000, 250, 600, 4000, 1500, 2200, 2800, 3200, 700, 5000, 6000, 150],\n",
        "    'video_comment_count': [10, 50, 200, 500, 20, 80, 700, 150, 300, 450, 550, 100, 800, 900, 5],\n",
        "    'video_share_count': [5, 20, 80, 150, 10, 40, 200, 70, 90, 130, 160, 30, 250, 300, 3]\n",
        "})\n",
        "\n",
        "# Create the boxplot for video duration\n",
        "plt.figure(figsize=(8, 5))\n",
        "sns.boxplot(x=tiktok_dataset['video_duration_sec'])\n",
        "\n",
        "# Labels and title\n",
        "plt.xlabel('Video Duration (seconds)')\n",
        "plt.title('Boxplot of Video Duration')\n",
        "plt.show()\n",
        "\n",
        "# Create the histogram for video duration\n",
        "plt.figure(figsize=(8, 5))\n",
        "sns.histplot(tiktok_dataset['video_duration_sec'], bins=10, kde=True)\n",
        "\n",
        "# Labels and title\n",
        "plt.xlabel('Video Duration (seconds)')\n",
        "plt.ylabel('Frequency')\n",
        "plt.title('Histogram of Video Duration')\n",
        "plt.show()\n",
        "\n",
        "# Create the boxplot for video view count\n",
        "plt.figure(figsize=(8, 5))\n",
        "sns.boxplot(x=tiktok_dataset['video_view_count'])\n",
        "\n",
        "# Labels and title\n",
        "plt.xlabel('Video View Count')\n",
        "plt.title('Boxplot of Video View Count')\n",
        "plt.show()\n",
        "\n",
        "# Create the histogram for video view count\n",
        "plt.figure(figsize=(8, 5))\n",
        "sns.histplot(tiktok_dataset['video_view_count'], bins=10, kde=True)\n",
        "\n",
        "# Labels and title\n",
        "plt.xlabel('Video View Count')\n",
        "plt.ylabel('Frequency')\n",
        "plt.title('Histogram of Video View Count')\n",
        "plt.show()\n",
        "\n",
        "# Create the boxplot for video like count\n",
        "plt.figure(figsize=(8, 5))\n",
        "sns.boxplot(x=tiktok_dataset['video_like_count'])\n",
        "\n",
        "# Labels and title\n",
        "plt.xlabel('Video Like Count')\n",
        "plt.title('Boxplot of Video Like Count')\n",
        "plt.show()\n",
        "\n",
        "# Create the histogram for video like count\n",
        "plt.figure(figsize=(8, 5))\n",
        "sns.histplot(tiktok_dataset['video_like_count'], bins=10, kde=True)\n",
        "\n",
        "# Labels and title\n",
        "plt.xlabel('Video Like Count')\n",
        "plt.ylabel('Frequency')\n",
        "plt.title('Histogram of Video Like Count')\n",
        "plt.show()\n",
        "\n",
        "# Create the boxplot for video comment count\n",
        "plt.figure(figsize=(8, 5))\n",
        "sns.boxplot(x=tiktok_dataset['video_comment_count'])\n",
        "\n",
        "# Labels and title\n",
        "plt.xlabel('Video Comment Count')\n",
        "plt.title('Boxplot of Video Comment Count')\n",
        "plt.show()\n",
        "\n",
        "# Create the histogram for video comment count\n",
        "plt.figure(figsize=(8, 5))\n",
        "sns.histplot(tiktok_dataset['video_comment_count'], bins=10, kde=True)\n",
        "\n",
        "# Labels and title\n",
        "plt.xlabel('Video Comment Count')\n",
        "plt.ylabel('Frequency')\n",
        "plt.title('Histogram of Video Comment Count')\n",
        "plt.show()\n",
        "\n",
        "# Create the boxplot for video share count\n",
        "plt.figure(figsize=(8, 5))\n",
        "sns.boxplot(x=tiktok_dataset['video_share_count'])\n",
        "\n",
        "# Labels and title\n",
        "plt.xlabel('Video Share Count')\n",
        "plt.title('Boxplot of Video Share Count')\n",
        "plt.show()\n"
      ]
    },
    {
      "cell_type": "markdown",
      "metadata": {
        "id": "Y3FgJS5rqqnY"
      },
      "source": [
        "*Create* a histogram of the values in the `video_share_count` column to further explore the distribution of this variable."
      ]
    },
    {
      "cell_type": "code",
      "execution_count": null,
      "metadata": {
        "colab": {
          "base_uri": "https://localhost:8080/",
          "height": 450
        },
        "id": "Z9B4BofcqoLI",
        "outputId": "c7c52d61-f9f4-44b3-8dd1-62a8c8d3157b"
      },
      "outputs": [],
      "source": [
        "import matplotlib.pyplot as plt\n",
        "\n",
        "# Assuming 'likes' is the column you want to visualize in tiktok_dataset\n",
        "plt.figure(figsize=(10, 2))\n",
        "plt.hist(tiktok_dataset['likes'], bins=20, edgecolor='black')\n",
        "\n",
        "plt.xlabel('Likes')\n",
        "plt.ylabel('Frequency')\n",
        "plt.title('Histogram of Likes on TikTok')\n",
        "\n",
        "plt.show()\n",
        "\n"
      ]
    },
    {
      "cell_type": "markdown",
      "metadata": {
        "id": "6IQiD3kwqtxY"
      },
      "source": [
        "**Question:** What do you notice about the distribution of this variable?\n",
        "* A:"
      ]
    },
    {
      "cell_type": "markdown",
      "metadata": {
        "id": "zK3Ck6hlqwtj"
      },
      "source": [
        "#### **video_download_count**\n",
        "\n",
        "Create a box plot to examine the spread of values in the `video_download_count` column."
      ]
    },
    {
      "cell_type": "code",
      "execution_count": null,
      "metadata": {
        "colab": {
          "base_uri": "https://localhost:8080/",
          "height": 234
        },
        "id": "2zy_F_XrqsJ_",
        "outputId": "942c2ce1-d38a-407d-a9ab-ef19ece5b473"
      },
      "outputs": [],
      "source": [
        "import matplotlib.pyplot as plt\n",
        "\n",
        "# Create a boxplot for 'video_download_count'\n",
        "plt.figure(figsize=(8, 4))\n",
        "plt.boxplot(tiktok_dataset['video_download_count'], vert=False, patch_artist=True)\n",
        "\n",
        "plt.xlabel('Video Download Count')\n",
        "plt.title('Boxplot of Video Download Count on TikTok')\n",
        "\n",
        "plt.show()\n",
        "\n"
      ]
    },
    {
      "cell_type": "markdown",
      "metadata": {
        "id": "zhkRN0Xqqz5_"
      },
      "source": [
        "Create a histogram of the values in the `video_download_count` column to further explore the distribution of this variable."
      ]
    },
    {
      "cell_type": "code",
      "execution_count": null,
      "metadata": {
        "colab": {
          "base_uri": "https://localhost:8080/",
          "height": 450
        },
        "id": "Eeaqe4L4qzQs",
        "outputId": "21224396-13bb-40c5-990f-79f00f46d9ca"
      },
      "outputs": [],
      "source": [
        "import matplotlib.pyplot as plt\n",
        "\n",
        "# Replace 'column_name' with the numerical column you want to visualize\n",
        "plt.figure(figsize=(10, 2))\n",
        "plt.hist(tiktok_dataset['column_name'], bins=20, edgecolor='black')\n",
        "\n",
        "plt.xlabel('Column Name')\n",
        "plt.ylabel('Frequency')\n",
        "plt.title('Histogram of Column Name')\n",
        "\n",
        "plt.show()\n"
      ]
    },
    {
      "cell_type": "markdown",
      "metadata": {
        "id": "ZbTYfL8RtACN"
      },
      "source": [
        "**Question:** What do you notice about the distribution of this variable?\n",
        "* A:"
      ]
    },
    {
      "cell_type": "markdown",
      "metadata": {
        "id": "H5GL-zZKtESI"
      },
      "source": [
        "#### **Claim status by verification status**\n",
        "\n",
        "Now, create a histogram with four bars: one for each combination of claim status and verification status."
      ]
    },
    {
      "cell_type": "code",
      "execution_count": null,
      "metadata": {
        "colab": {
          "base_uri": "https://localhost:8080/",
          "height": 487
        },
        "id": "xjeTkkUeq25x",
        "outputId": "a9b135e5-c86a-40a1-b6e4-32c05301a904"
      },
      "outputs": [],
      "source": [
        "import matplotlib.pyplot as plt\n",
        "\n",
        "# Replace 'likes' with the numerical column you want to visualize\n",
        "plt.figure(figsize=(10, 2))\n",
        "plt.hist(tiktok_dataset['likes'], bins=20, edgecolor='black')\n",
        "\n",
        "plt.xlabel('Likes')\n",
        "plt.ylabel('Frequency')\n",
        "plt.title('Histogram of Likes on TikTok')\n",
        "\n",
        "plt.show()\n",
        "\n"
      ]
    },
    {
      "cell_type": "markdown",
      "metadata": {
        "id": "FMydHJDZtK9e"
      },
      "source": [
        "**Question:** What do you notice about the number of verified users compared to unverified? And how does that affect their likelihood to post opinions?\n",
        "\n",
        "* A:"
      ]
    },
    {
      "cell_type": "markdown",
      "metadata": {
        "id": "MGXsdK2wtO2Q"
      },
      "source": [
        "#### **Claim status by author ban status**\n",
        "\n",
        "The previous course used a `groupby()` statement to examine the count of each claim status for each author ban status. Now, use a histogram to communicate the same information."
      ]
    },
    {
      "cell_type": "code",
      "execution_count": null,
      "metadata": {
        "colab": {
          "base_uri": "https://localhost:8080/",
          "height": 405
        },
        "id": "XRKVuPVhtHwv",
        "outputId": "8bff52cd-c3a3-4178-d339-7603e9e4a346"
      },
      "outputs": [],
      "source": [
        "import matplotlib.pyplot as plt\n",
        "\n",
        "# Replace 'likes' with the column you want to visualize\n",
        "plt.figure(figsize=(10, 2))\n",
        "plt.hist(tiktok_dataset['likes'], bins=20, edgecolor='black')\n",
        "\n",
        "plt.xlabel('Likes')\n",
        "plt.ylabel('Frequency')\n",
        "plt.title('Histogram of Likes')\n",
        "\n",
        "plt.show()\n",
        "\n",
        "\n"
      ]
    },
    {
      "cell_type": "markdown",
      "metadata": {
        "id": "vQ5SUb2VtYFr"
      },
      "source": [
        "**Question:** What do you notice about the number of active authors compared to banned authors for both claims and opinions?\n",
        "\n",
        "* A:"
      ]
    },
    {
      "cell_type": "markdown",
      "metadata": {
        "id": "ly5tVrb5thg2"
      },
      "source": [
        "#### **Median view counts by ban status**\n",
        "\n",
        "Create a bar plot with three bars: one for each author ban status. The height of each bar should correspond with the median number of views for all videos with that author ban status."
      ]
    },
    {
      "cell_type": "code",
      "execution_count": null,
      "metadata": {
        "colab": {
          "base_uri": "https://localhost:8080/",
          "height": 350
        },
        "id": "bpQDX-actQrQ",
        "outputId": "8ec0a974-7b53-48cf-bdf8-e35e862337e5"
      },
      "outputs": [],
      "source": [
        "import matplotlib.pyplot as plt\n",
        "\n",
        "# Replace 'category' with the categorical column and 'likes' with the numerical column\n",
        "plt.figure(figsize=(10, 5))\n",
        "tiktok_dataset.groupby('category')['likes'].sum().plot(kind='bar', color='skyblue', edgecolor='black')\n",
        "\n",
        "plt.xlabel('Category')\n",
        "plt.ylabel('Total Likes')\n",
        "plt.title('Total Likes by Category on TikTok')\n",
        "\n",
        "plt.xticks(rotation=45)\n",
        "plt.show()\n",
        "\n"
      ]
    },
    {
      "cell_type": "markdown",
      "metadata": {
        "id": "4T_PMWmvtuWw"
      },
      "source": [
        "**Question:** What do you notice about the median view counts for non-active authors compared to that of active authors? Based on that insight, what variable might be a good indicator of claim status?\n",
        "\n",
        "* A:"
      ]
    },
    {
      "cell_type": "code",
      "execution_count": null,
      "metadata": {
        "colab": {
          "base_uri": "https://localhost:8080/",
          "height": 178
        },
        "id": "tUBTZLRbtkws",
        "outputId": "544358d4-a97f-4936-f2e8-0fc90f69d377"
      },
      "outputs": [],
      "source": [
        "# Replace 'claim_status' with the actual column name representing claim status\n",
        "# Replace 'view_count' with the actual column representing view counts\n",
        "\n",
        "median_views = tiktok_dataset.groupby('claim_status')['view_count'].median()\n",
        "print(median_views)\n",
        "\n"
      ]
    },
    {
      "cell_type": "markdown",
      "metadata": {
        "id": "m-p6TstEt4PF"
      },
      "source": [
        "#### **Total views by claim status**\n",
        "\n",
        "Create a bar graph that depicts the proportions of total views for claim videos and total views for opinion videos."
      ]
    },
    {
      "cell_type": "code",
      "execution_count": null,
      "metadata": {
        "colab": {
          "base_uri": "https://localhost:8080/",
          "height": 410
        },
        "id": "ielnhNIyvSvu",
        "outputId": "5de0698a-1fbd-4060-8a9b-9ad5bb039023"
      },
      "outputs": [],
      "source": [
        "import matplotlib.pyplot as plt\n",
        "import seaborn as sns\n",
        "\n",
        "# Aggregate total views by claim status\n",
        "total_views = tiktok_dataset.groupby('claim_status')['view_count'].sum()\n",
        "\n",
        "# Define colors using a Seaborn bright palette\n",
        "colors = sns.color_palette('bright', len(total_views))\n",
        "\n",
        "# Create the bar graph\n",
        "plt.figure(figsize=(10, 5))\n",
        "bars = plt.bar(total_views.index, total_views.values, color=colors, edgecolor='black')\n",
        "\n",
        "# Increase the y-axis limit to avoid truncation of high-value annotations\n",
        "plt.ylim(0, total_views.max() * 1.1)\n",
        "\n",
        "# Annotate bars with percentage values\n",
        "total_sum = total_views.sum()\n",
        "for bar in bars:\n",
        "    height = bar.get_height()\n",
        "    percentage = (height / total_sum) * 100\n",
        "    plt.text(bar.get_x() + bar.get_width()/2, height, f'{percentage:.1f}%', \n",
        "             ha='center', va='bottom', fontsize=12)\n",
        "\n",
        "# Labels and title\n",
        "plt.xlabel('Claim Status')\n",
        "plt.ylabel('Total Views')\n",
        "plt.title('Total Views by Claim Status')\n",
        "\n",
        "plt.show()\n",
        "\n"
      ]
    },
    {
      "cell_type": "code",
      "execution_count": null,
      "metadata": {
        "colab": {
          "base_uri": "https://localhost:8080/",
          "height": 178
        },
        "id": "A_03Z4xut3wE",
        "outputId": "709c9fbe-ac15-45d0-f532-1f7226b35c7e"
      },
      "outputs": [],
      "source": [
        "# Count the occurrences of each claim_status\n",
        "claim_status_counts = tiktok_dataset['claim_status'].value_counts()\n",
        "\n",
        "# Display the counts\n",
        "print(claim_status_counts)\n",
        "\n",
        "\n"
      ]
    },
    {
      "cell_type": "markdown",
      "metadata": {
        "id": "_QYVzbW8wHlg"
      },
      "source": [
        "**Question:** What do you notice about the overall view count for claim status?\n",
        "\n",
        "* A:"
      ]
    },
    {
      "cell_type": "markdown",
      "metadata": {
        "id": "8GQoXhJpw46R"
      },
      "source": [
        "### **Task 4. Determine outliers**\n",
        "\n",
        "When building predictive models, the presence of outliers can be problematic. For example, if you were trying to predict the view count of a particular video, videos with extremely high view counts might introduce bias to a model. Also, some outliers might indicate problems with how data was captured or recorded.\n",
        "\n",
        "The ultimate objective of the TikTok project is to build a model that predicts whether a video is a claim or opinion. The analysis you've performed indicates that a video's engagement level is strongly correlated with its claim status. There's no reason to believe that any of the values in the TikTok data are erroneously captured, and they align with expectation of how social media works: a very small proportion of videos get super high engagement levels. That's the nature of viral content.\n",
        "\n",
        "Nonetheless, it's good practice to get a sense of just how many of your data points could be considered outliers. The definition of an outlier can change based on the details of your project, and it helps to have domain expertise to decide a threshold. You've learned that a common way to determine outliers in a normal distribution is to calculate the interquartile range (IQR) and set a threshold that is 1.5 * IQR above the 3rd quartile.\n",
        "\n",
        "In this TikTok dataset, the values for the count variables are not normally distributed. They are heavily skewed to the right. One way of modifying the outlier threshold is by calculating the **median** value for each variable and then adding 1.5 * IQR. This results in a threshold that is, in this case, much lower than it would be if you used the 3rd quartile.\n",
        "\n",
        "Write a for loop that iterates over the column names of each count variable. For each iteration:\n",
        "1. Calculate the IQR of the column\n",
        "2. Calculate the median of the column\n",
        "3. Calculate the outlier threshold (median + 1.5 * IQR)\n",
        "4. Calculate the number of videos with a count in that column that exceeds the outlier threshold\n",
        "5. Print \"Number of outliers, {column name}: {outlier count}\"\n",
        "\n",
        "```\n",
        "Example:\n",
        "Number of outliers, video_view_count: ___\n",
        "Number of outliers, video_like_count: ___\n",
        "Number of outliers, video_share_count: ___\n",
        "Number of outliers, video_download_count: ___\n",
        "Number of outliers, video_comment_count: ___\n",
        "```"
      ]
    },
    {
      "cell_type": "code",
      "execution_count": null,
      "metadata": {
        "colab": {
          "base_uri": "https://localhost:8080/"
        },
        "id": "NzlUkbS3v6KQ",
        "outputId": "e527a6e3-f31b-4b75-d682-e7ddb763714d"
      },
      "outputs": [],
      "source": [
        "# Extract the video_share_count column\n",
        "video_share_count = tiktok_dataset['video_share_count']\n",
        "\n",
        "# Display the recorded video share counts\n",
        "print(video_share_count)\n",
        "\n"
      ]
    },
    {
      "cell_type": "markdown",
      "metadata": {
        "id": "nr2u1aAOxJKM"
      },
      "source": [
        "#### **Scatterplot**"
      ]
    },
    {
      "cell_type": "code",
      "execution_count": null,
      "metadata": {
        "colab": {
          "base_uri": "https://localhost:8080/",
          "height": 410
        },
        "id": "AA04BTg1xEx7",
        "outputId": "061d712f-518a-455f-e916-7edd5e49d432"
      },
      "outputs": [],
      "source": [
        "import matplotlib.pyplot as plt\n",
        "import seaborn as sns\n",
        "\n",
        "# Create the scatterplot\n",
        "plt.figure(figsize=(10, 6))\n",
        "sns.scatterplot(data=tiktok_dataset, x='video_view_count', y='video_like_count', hue='claim_status', palette='deep')\n",
        "\n",
        "# Labels and title\n",
        "plt.xlabel('Video View Count')\n",
        "plt.ylabel('Video Like Count')\n",
        "plt.title('Scatterplot of Video View Count vs. Video Like Count by Claim Status')\n",
        "\n",
        "plt.show()\n"
      ]
    },
    {
      "cell_type": "code",
      "execution_count": null,
      "metadata": {
        "colab": {
          "base_uri": "https://localhost:8080/",
          "height": 450
        },
        "id": "sbGxzkjsxKbO",
        "outputId": "b19edfca-e15b-42d8-9cfa-0c5e1ffde23e"
      },
      "outputs": [],
      "source": [
        "import matplotlib.pyplot as plt\n",
        "import seaborn as sns\n",
        "\n",
        "# Filter the dataset for 'opinions' only\n",
        "opinions_data = tiktok_dataset[tiktok_dataset['claim_status'] == 'opinions']\n",
        "\n",
        "# Create the scatterplot\n",
        "plt.figure(figsize=(10, 6))\n",
        "sns.scatterplot(data=opinions_data, x='video_view_count', y='video_like_count')\n",
        "\n",
        "# Labels and title\n",
        "plt.xlabel('Video View Count')\n",
        "plt.ylabel('Video Like Count')\n",
        "plt.title('Scatterplot of Video View Count vs. Video Like Count for Opinions')\n",
        "\n",
        "plt.show()\n",
        "\n"
      ]
    },
    {
      "cell_type": "markdown",
      "metadata": {
        "id": "q8lgu-0VxPSy"
      },
      "source": [
        "You can also do a scatterplot in Tableau Public as well, which can be easier to manipulate and present."
      ]
    },
    {
      "cell_type": "markdown",
      "metadata": {
        "id": "bqmI_FXM5ZrI"
      },
      "source": [
        "We have learned ....\n",
        "* *We have learned about data distribution/spread, count frequencies, mean and median values, outliers, missing data, and more. We also analyzed correlations between variables, particularly between the **claim_status** variable and others.*\n",
        "\n",
        "Our other questions are ....\n",
        "* Besides the count variables, we like to investigate what other variables would be helpful to understand the data.\n",
        "* Also, we will to investigate what variables are corellated to the each class of claim.\n",
        "\n",
        "Our audience would likely want to know ...\n",
        "* Some of our assumptions\n",
        "* How the observations from the data, impact the business."
      ]
    },
    {
      "cell_type": "markdown",
      "metadata": {
        "id": "vzEPlFza7qB_"
      },
      "source": [
        "### **Task 5. Data Cleaning**"
      ]
    },
    {
      "cell_type": "code",
      "execution_count": null,
      "metadata": {
        "colab": {
          "base_uri": "https://localhost:8080/",
          "height": 554
        },
        "id": "9jkeOiw4xLob",
        "outputId": "180a4776-eaee-437d-bd34-e2aad62145a2"
      },
      "outputs": [],
      "source": [
        "# Check for missing values in the dataset\n",
        "missing_values = tiktok_dataset.isnull().sum()\n",
        "\n",
        "# Display the count of missing values for each column\n",
        "print(missing_values)\n"
      ]
    },
    {
      "cell_type": "code",
      "execution_count": null,
      "metadata": {
        "colab": {
          "base_uri": "https://localhost:8080/"
        },
        "id": "bxzosZsG8A_0",
        "outputId": "2f1dfd28-b6fd-4e4e-cb9b-7f76913dfe97"
      },
      "outputs": [],
      "source": [
        "# Drop rows with missing values\n",
        "tiktok_dataset_cleaned = tiktok_dataset.dropna()\n",
        "\n",
        "# Display the cleaned dataset (first few rows)\n",
        "print(tiktok_dataset_cleaned.head())\n",
        "\n"
      ]
    },
    {
      "cell_type": "code",
      "execution_count": null,
      "metadata": {
        "colab": {
          "base_uri": "https://localhost:8080/",
          "height": 313
        },
        "id": "vEU3Sgd18DZW",
        "outputId": "795e48b7-bda4-4e39-f6b4-5c8f9f0d5344"
      },
      "outputs": [],
      "source": [
        "# Drop rows with missing values\n",
        "tiktok_dataset_cleaned = tiktok_dataset.dropna()\n",
        "\n",
        "# Display the first few rows of the cleaned dataset\n",
        "print(tiktok_dataset_cleaned.head())\n",
        "\n"
      ]
    },
    {
      "cell_type": "code",
      "execution_count": null,
      "metadata": {
        "colab": {
          "base_uri": "https://localhost:8080/",
          "height": 143
        },
        "id": "Ajz_2_2m8FC9",
        "outputId": "6caf80de-24c5-4cb5-80ef-a94b2e619fd9"
      },
      "outputs": [],
      "source": [
        "# Compute the mean video_view_count for each group in verified_status\n",
        "mean_video_view_count = tiktok_dataset.groupby('verified_status')['video_view_count'].mean()\n",
        "\n",
        "# Display the results\n",
        "print(mean_video_view_count)\n"
      ]
    },
    {
      "cell_type": "markdown",
      "metadata": {
        "id": "CiVdtpv9-K0N"
      },
      "source": [
        "### **Task 6. Hypothesis testing**\n",
        "\n",
        "Before you conduct your hypothesis test, consider the following questions where applicable to complete your code response:\n",
        "\n",
        "1. Recall the difference between the null hypothesis and the alternative hypotheses. What are your hypotheses for this data project?"
      ]
    },
    {
      "cell_type": "markdown",
      "metadata": {
        "id": "f1DgyAUW-TKw"
      },
      "source": [
        "*   **Null hypothesis**: There is no difference in number of views between TikTok videos posted by verified accounts and TikTok videos posted by unverified accounts (any observed difference in the sample data is due to chance or sampling variability).\n",
        "\n",
        "*    **Alternative hypothesis**: There is a difference in number of views between TikTok videos posted by verified accounts and TikTok videos posted by unverified accounts (any observed difference in the sample data is due to an actual difference in the corresponding population means).\n"
      ]
    },
    {
      "cell_type": "markdown",
      "metadata": {
        "id": "BXUmsQjx-WpV"
      },
      "source": [
        "Your goal in this step is to conduct a two-sample t-test. Recall the steps for conducting a hypothesis test:\n",
        "\n",
        "\n",
        "1.   State the null hypothesis and the alternative hypothesis\n",
        "2.   Choose a signficance level\n",
        "3.   Find the p-value\n",
        "4.   Reject or fail to reject the null hypothesis\n",
        "\n"
      ]
    },
    {
      "cell_type": "markdown",
      "metadata": {
        "id": "shV94wnO-aiS"
      },
      "source": [
        "**$H_0$**:\n",
        "\n",
        "**$H_A$**:\n"
      ]
    },
    {
      "cell_type": "markdown",
      "metadata": {
        "id": "J4OL1A1s-d9t"
      },
      "source": [
        "You choose 5% as the significance level and proceed with a two-sample t-test."
      ]
    },
    {
      "cell_type": "code",
      "execution_count": null,
      "metadata": {
        "colab": {
          "base_uri": "https://localhost:8080/"
        },
        "id": "gmRziBQ19mgi",
        "outputId": "7c054325-f097-4b0c-819b-201feddb68ef"
      },
      "outputs": [],
      "source": [
        "import scipy.stats as stats\n",
        "\n",
        "# Assuming 'verified_status' has two groups: 'Verified' and 'Not Verified'\n",
        "# Extract data for both groups\n",
        "verified_data = tiktok_dataset[tiktok_dataset['verified_status'] == 'Verified']['video_view_count']\n",
        "not_verified_data = tiktok_dataset[tiktok_dataset['verified_status'] == 'Not Verified']['video_view_count']\n",
        "\n",
        "# Perform a two-sample t-test\n",
        "t_stat, p_value = stats.ttest_ind(verified_data, not_verified_data, nan_policy='omit')\n",
        "\n",
        "# Display the results\n",
        "print(f\"T-statistic: {t_stat}\")\n",
        "print(f\"P-value: {p_value}\")\n",
        "\n"
      ]
    },
    {
      "cell_type": "markdown",
      "metadata": {
        "id": "5Y__Aj4a-u5j"
      },
      "source": [
        "**Question:** Based on the p-value you got above, do you reject or fail to reject the null hypothesis?\n",
        "\n",
        "A:"
      ]
    },
    {
      "cell_type": "markdown",
      "metadata": {
        "id": "UvLV8m1n_gkB"
      },
      "source": [
        "**Question:** What business insight(s) can you draw from the result of your hypothesis test?\n",
        "\n",
        "In the business context, the result of the rest can be leveraged to inform various decisions and strategies. Here are some potential business insights that can be drawn from the result:\n",
        "\n",
        "- **Market Segmentation**: The analysis shows that there is a statistically significant difference in the average view counts between videos from verified accounts and videos from unverified accounts. This suggests there might be fundamental behavioral or preference differences between these two groups of accounts.\n",
        "\n",
        "- **Resource Allocation**: Understanding the differences between the two groups can help TikTok allocate resources more effectively. For example, they can prioritize investments in areas that are more impactful or relevant to specific customer segments, thereby optimizing resource allocation and maximizing returns.\n",
        "\n",
        "- It would be interesting to investigate the root cause of this behavioral difference. For example, do unverified accounts tend to post more clickbait-y videos? Or are unverified accounts associated with spam bots that help inflate view counts?\n",
        "\n",
        "- The next step will be to build a regression model on verified_status. A regression model is the natural next step because the end goal is to make predictions on claim status. A regression model for verified_status can help analyze user behavior in this group of verified users. Technical note to prepare regression model: because the data is skewed, and there is a significant difference in account types, it will be key to build a logistic regression model.\n"
      ]
    },
    {
      "cell_type": "markdown",
      "metadata": {
        "id": "7WvFQ2bwBbFX"
      },
      "source": [
        "# **Part 3: Regression modeling**\n",
        "\n",
        "In this part, you will build a logistic regression model in Python. As you have learned, logistic regression helps you estimate the probability of an outcome. For data science professionals, this is a useful skill because it allows you to consider more than one variable against the variable you're measuring against. This opens the door for much more thorough and flexible analysis to be completed.\n",
        "\n",
        "<br/>\n",
        "\n",
        "**The purpose** of this project is to demostrate knowledge of regression models.\n",
        "\n",
        "**The goal** is to build a logistic regression model and evaluate the model.\n",
        "<br/>\n",
        "*This part has three tasks:*\n",
        "\n",
        "**Task 1:** EDA & Checking Model Assumptions\n",
        "* What are some purposes of EDA before constructing a logistic regression model?\n",
        "\n",
        "**Task 2:** Model Building and Evaluation\n",
        "* What resources do you find yourself using as you complete this stage?\n",
        "\n",
        "**Task 3:** Interpreting Model Results\n",
        "\n",
        "* What key insights emerged from your model(s)?\n",
        "\n",
        "* What business recommendations do you propose based on the models built?\n",
        "\n",
        "Follow the instructions and answer the question below to complete the part."
      ]
    },
    {
      "cell_type": "markdown",
      "metadata": {
        "id": "GXCWgR1BE67f"
      },
      "source": [
        "### **Task 1a. EDA & Checking Model Assumptions**"
      ]
    },
    {
      "cell_type": "code",
      "execution_count": null,
      "metadata": {
        "colab": {
          "base_uri": "https://localhost:8080/"
        },
        "id": "ZrRmg4Zj-JlA",
        "outputId": "ff571d63-05ff-4cfb-be68-426a2d097d8c"
      },
      "outputs": [],
      "source": [
        "# Check for duplicate rows in the dataset\n",
        "duplicates = tiktok_dataset.duplicated()\n",
        "\n",
        "# Display the number of duplicate rows\n",
        "print(f\"Number of duplicate rows: {duplicates.sum()}\")\n",
        "\n",
        "# Optionally, display the duplicate rows\n",
        "print(tiktok_dataset[duplicates])\n"
      ]
    },
    {
      "cell_type": "markdown",
      "metadata": {
        "id": "6sM6nBelHMfw"
      },
      "source": [
        "Check for and handle outliers. Remember there are outlier in the \"video_like_count\" and \"video_comment_count\"."
      ]
    },
    {
      "cell_type": "code",
      "execution_count": null,
      "metadata": {
        "colab": {
          "base_uri": "https://localhost:8080/",
          "height": 341
        },
        "id": "RWMktzkqG2AB",
        "outputId": "c0eb6358-6c11-4d73-fe9c-77961dd9356a"
      },
      "outputs": [],
      "source": [
        "# Create a boxplot to visualize distribution of `video_like_count`\n",
        "import matplotlib.pyplot as plt\n",
        "\n",
        "# Create a boxplot for the distribution of 'video_like_count'\n",
        "plt.figure(figsize=(8, 6))\n",
        "plt.boxplot(tiktok_dataset['video_like_count'], vert=False, patch_artist=True, color='skyblue')\n",
        "\n",
        "plt.xlabel('Video Like Count')\n",
        "plt.title('Boxplot of Video Like Count')\n",
        "plt.show()\n",
        "\n",
        "\n",
        "\n",
        "\n",
        "# Create a boxplot to visualize distribution of `video_comment_count`\n",
        "# Create a boxplot for the distribution of 'video_comment_count'\n",
        "plt.figure(figsize=(8, 6))\n",
        "plt.boxplot(tiktok_dataset['video_comment_count'], vert=False, patch_artist=True, color='lightgreen')\n",
        "\n",
        "plt.xlabel('Video Comment Count')\n",
        "plt.title('Boxplot of Video Comment Count')\n",
        "plt.show()\n",
        "\n",
        "\n"
      ]
    },
    {
      "cell_type": "code",
      "execution_count": null,
      "metadata": {
        "id": "vcW-4-BtLrDD"
      },
      "outputs": [],
      "source": [
        "# Calculate Q1 (25th percentile) and Q3 (75th percentile)\n",
        "Q1 = tiktok_dataset['video_like_count'].quantile(0.25)\n",
        "Q3 = tiktok_dataset['video_like_count'].quantile(0.75)\n",
        "\n",
        "# Calculate the IQR\n",
        "IQR = Q3 - Q1\n",
        "\n",
        "# Define the lower and upper bounds for non-outlier data\n",
        "lower_bound = Q1 - 1.5 * IQR\n",
        "upper_bound = Q3 + 1.5 * IQR\n",
        "\n",
        "# Identify outliers\n",
        "outliers = tiktok_dataset[(tiktok_dataset['video_like_count'] < lower_bound) | \n",
        "                          (tiktok_dataset['video_like_count'] > upper_bound)]\n",
        "\n",
        "# Display outliers\n",
        "print(f\"Outliers:\\n{outliers[['video_like_count']]}\")\n",
        "\n",
        "\n"
      ]
    },
    {
      "cell_type": "code",
      "execution_count": null,
      "metadata": {
        "id": "b41aYoAmMjGB"
      },
      "outputs": [],
      "source": [
        "# Calculate Q1 (25th percentile) and Q3 (75th percentile) for 'video_comment_count'\n",
        "Q1 = tiktok_dataset['video_comment_count'].quantile(0.25)\n",
        "Q3 = tiktok_dataset['video_comment_count'].quantile(0.75)\n",
        "\n",
        "# Calculate the IQR\n",
        "IQR = Q3 - Q1\n",
        "\n",
        "# Define the lower and upper bounds for non-outlier data\n",
        "lower_bound = Q1 - 1.5 * IQR\n",
        "upper_bound = Q3 + 1.5 * IQR\n",
        "\n",
        "# Identify outliers\n",
        "outliers = tiktok_dataset[(tiktok_dataset['video_comment_count'] < lower_bound) | \n",
        "                          (tiktok_dataset['video_comment_count'] > upper_bound)]\n",
        "\n",
        "# Display outliers\n",
        "print(f\"Outliers:\\n{outliers[['video_comment_count']]}\")\n",
        "\n"
      ]
    },
    {
      "cell_type": "markdown",
      "metadata": {
        "id": "nfJLKAKAMidO"
      },
      "source": [
        "Check class balance."
      ]
    },
    {
      "cell_type": "code",
      "execution_count": null,
      "metadata": {
        "colab": {
          "base_uri": "https://localhost:8080/",
          "height": 178
        },
        "id": "hI4UWLOTLs_r",
        "outputId": "2a183649-ef5b-4774-e0a3-4bbf8d240e7f"
      },
      "outputs": [],
      "source": [
        "# Define bins for classifying video_comment_count into categories (low, medium, high)\n",
        "bins = [0, 100, 500, 1000, float('inf')]  # Adjust these bin values as needed\n",
        "labels = ['Low', 'Medium', 'High', 'Very High']\n",
        "\n",
        "# Create a new column 'comment_count_class' to classify the values\n",
        "tiktok_dataset['comment_count_class'] = pd.cut(tiktok_dataset['video_comment_count'], bins=bins, labels=labels)\n",
        "\n",
        "# Check the class balance (distribution of each category)\n",
        "class_balance = tiktok_dataset['comment_count_class'].value_counts()\n",
        "\n",
        "# Display the class balance\n",
        "print(class_balance)\n",
        "\n"
      ]
    },
    {
      "cell_type": "markdown",
      "metadata": {
        "id": "c0SnarSPM-L2"
      },
      "source": [
        "**Verify**: Approximately 93.7% of the dataset represents videos posted by unverified accounts and 6.3% represents videos posted by verified accounts. So the outcome variable is not very balanced."
      ]
    },
    {
      "cell_type": "markdown",
      "metadata": {
        "id": "8OVaqY8rNLti"
      },
      "source": [
        "Use resampling to create class balance in the outcome variable, if needed."
      ]
    },
    {
      "cell_type": "code",
      "execution_count": null,
      "metadata": {
        "colab": {
          "base_uri": "https://localhost:8080/",
          "height": 178
        },
        "id": "d6cwOZI-Lu9L",
        "outputId": "4979211d-41a7-41c4-f219-f223b8912f37"
      },
      "outputs": [],
      "source": [
        "# Use resampling to create class balance in the outcome variable, if needed\n",
        "\n",
        "\n",
        "# Identify majority and minority classes in the 'verified_status' column\n",
        "majority_class = tiktok_dataset[tiktok_dataset['verified_status'] == 'Not Verified']\n",
        "minority_class = tiktok_dataset[tiktok_dataset['verified_status'] == 'Verified']\n",
        "\n",
        "# Display counts of each class\n",
        "print(f\"Majority class count: {len(majority_class)}\")\n",
        "print(f\"Minority class count: {len(minority_class)}\")\n",
        "\n",
        "\n",
        "\n",
        "# Upsample the minority class to match the majority class size\n",
        "minority_class_upsampled = minority_class.sample(n=len(majority_class), replace=True, random_state=42)\n",
        "\n",
        "# Display the size of the upsampled minority class\n",
        "print(f\"Upsampled minority class count: {len(minority_class_upsampled)}\")\n",
        "\n",
        "\n",
        "\n",
        "# Combine the majority class with the upsampled minority class\n",
        "tiktok_dataset_balanced = pd.concat([majority_class, minority_class_upsampled])\n",
        "\n",
        "# Display the size of the new balanced dataset\n",
        "print(f\"Total dataset size after balancing: {len(tiktok_dataset_balanced)}\")\n",
        "\n",
        "\n",
        "\n",
        "# Display the new class distribution\n",
        "class_counts = tiktok_dataset_balanced['verified_status'].value_counts()\n",
        "print(f\"Class distribution after balancing:\\n{class_counts}\")\n",
        "\n",
        "\n"
      ]
    },
    {
      "cell_type": "markdown",
      "metadata": {
        "id": "sxWM3nFlNVy0"
      },
      "source": [
        "Get the average `video_transcription_text` length for videos posted by verified accounts and the average `video_transcription_text` length for videos posted by unverified accounts.\n",
        "\n"
      ]
    },
    {
      "cell_type": "code",
      "execution_count": null,
      "metadata": {
        "colab": {
          "base_uri": "https://localhost:8080/",
          "height": 143
        },
        "id": "C_0vbh-CNOkj",
        "outputId": "86db8963-ce05-40a2-8976-4f3e91e8fd1a"
      },
      "outputs": [],
      "source": [
        "# Calculate the length of video_transcription_text for each row\n",
        "tiktok_dataset['transcription_length'] = tiktok_dataset['video_transcription_text'].apply(len)\n",
        "\n",
        "# Calculate the average transcription length for 'claim_status' == 'claims'\n",
        "average_claims_length = tiktok_dataset[tiktok_dataset['claim_status'] == 'claims']['transcription_length'].mean()\n",
        "\n",
        "# Calculate the average transcription length for 'claim_status' == 'opinions'\n",
        "average_opinions_length = tiktok_dataset[tiktok_dataset['claim_status'] == 'opinions']['transcription_length'].mean()\n",
        "\n",
        "# Display the results\n",
        "print(f\"Average transcription length for claims: {average_claims_length}\")\n",
        "print(f\"Average transcription length for opinions: {average_opinions_length}\")\n",
        "\n"
      ]
    },
    {
      "cell_type": "markdown",
      "metadata": {
        "id": "sxryetDuNcO6"
      },
      "source": [
        "Extract the length of each `video_transcription_text` and add this as a column to the dataframe, so that it can be used as a potential feature in the model."
      ]
    },
    {
      "cell_type": "code",
      "execution_count": null,
      "metadata": {
        "id": "56LN202uNYqI"
      },
      "outputs": [],
      "source": [
        "# Extract the length of each video_transcription_text and add it as a new column\n",
        "tiktok_dataset['transcription_length'] = tiktok_dataset['video_transcription_text'].apply(len)\n",
        "\n",
        "# Display the first few rows to confirm the new column\n",
        "print(tiktok_dataset[['video_transcription_text', 'transcription_length']].head())\n",
        "\n"
      ]
    },
    {
      "cell_type": "code",
      "execution_count": null,
      "metadata": {
        "colab": {
          "base_uri": "https://localhost:8080/",
          "height": 313
        },
        "id": "oy2gIcQlNeBq",
        "outputId": "4f0d2979-2e61-4e3a-f0cc-2fff7399d3e7"
      },
      "outputs": [],
      "source": [
        "# Display the first few rows of the dataframe after adding the new column\n",
        "print(tiktok_dataset[['video_transcription_text', 'transcription_length']].head())\n",
        "\n"
      ]
    },
    {
      "cell_type": "code",
      "execution_count": null,
      "metadata": {
        "colab": {
          "base_uri": "https://localhost:8080/",
          "height": 487
        },
        "id": "oeWuv8n7Nfa6",
        "outputId": "d3237f95-9506-448e-82b4-53c2649c91e0"
      },
      "outputs": [],
      "source": [
        "import matplotlib.pyplot as plt\n",
        "\n",
        "# Filter the dataset into verified and unverified accounts\n",
        "verified_videos = tiktok_dataset[tiktok_dataset['verified_status'] == 'Verified']\n",
        "unverified_videos = tiktok_dataset[tiktok_dataset['verified_status'] == 'Not Verified']\n",
        "\n",
        "# Create the histograms\n",
        "plt.figure(figsize=(10, 6))\n",
        "plt.hist(verified_videos['transcription_length'], bins=30, alpha=0.5, label='Verified', color='skyblue')\n",
        "plt.hist(unverified_videos['transcription_length'], bins=30, alpha=0.5, label='Unverified', color='salmon')\n",
        "\n",
        "# Add labels and title\n",
        "plt.xlabel('Transcription Length')\n",
        "plt.ylabel('Frequency')\n",
        "plt.title('Distribution of Transcription Length for Verified and Unverified Accounts')\n",
        "\n",
        "# Add legend\n",
        "plt.legend()\n",
        "\n",
        "# Show the plot\n",
        "plt.show()\n"
      ]
    },
    {
      "cell_type": "markdown",
      "metadata": {
        "id": "6n5OGWXFOUIC"
      },
      "source": [
        "### **Task 1b. Examine correlations**\n",
        "Next, code a correlation matrix to help determine most correlated variables."
      ]
    },
    {
      "cell_type": "code",
      "execution_count": null,
      "metadata": {
        "colab": {
          "base_uri": "https://localhost:8080/",
          "height": 446
        },
        "id": "s-A8CJVUNvE4",
        "outputId": "3be9fd84-c984-40d8-8d3b-1afac5c631ed"
      },
      "outputs": [],
      "source": [
        "import seaborn as sns\n",
        "import matplotlib.pyplot as plt\n",
        "\n",
        "# Calculate the correlation matrix\n",
        "correlation_matrix = tiktok_dataset.corr()\n",
        "\n",
        "# Create a heatmap to visualize the correlation matrix\n",
        "plt.figure(figsize=(12, 8))\n",
        "sns.heatmap(correlation_matrix, annot=True, cmap='coolwarm', fmt='.2f', linewidths=0.5)\n",
        "\n",
        "# Add title to the plot\n",
        "plt.title('Correlation Matrix of Variables')\n",
        "\n",
        "# Show the plot\n",
        "plt.show()\n",
        "\n"
      ]
    },
    {
      "cell_type": "code",
      "execution_count": null,
      "metadata": {
        "colab": {
          "base_uri": "https://localhost:8080/",
          "height": 596
        },
        "id": "erPliTxuPHRe",
        "outputId": "e43b0b99-6445-4c32-fda8-3f4aaf206025"
      },
      "outputs": [],
      "source": [
        "import seaborn as sns\n",
        "import matplotlib.pyplot as plt\n",
        "\n",
        "# Calculate the correlation matrix for the numeric variables\n",
        "correlation_matrix = tiktok_dataset.corr()\n",
        "\n",
        "# Create a heatmap to visualize the correlation matrix\n",
        "plt.figure(figsize=(12, 8))\n",
        "sns.heatmap(correlation_matrix, annot=True, cmap='coolwarm', fmt='.2f', linewidths=0.5, cbar=True)\n",
        "\n",
        "# Add title to the heatmap\n",
        "plt.title('Correlation Heatmap of Variables')\n",
        "\n",
        "# Show the plot\n",
        "plt.show()\n",
        "\n"
      ]
    },
    {
      "cell_type": "markdown",
      "metadata": {
        "id": "RgUC5dCsPMMJ"
      },
      "source": [
        "One of the model assumptions for logistic regression is no severe multicollinearity among the features. Take this into consideration as you examine the heatmap and choose which features to proceed with.\n",
        "\n",
        "**Question:** What variables are shown to be correlated in the heatmap? Check for multicollinearity.\n",
        "\n",
        "* A:\n",
        "\n",
        "To build a logistic regression model, I will drop the __________ feature."
      ]
    },
    {
      "cell_type": "markdown",
      "metadata": {
        "id": "EdvquOjwPsbV"
      },
      "source": [
        "### **Task 3a. Select variables**\n",
        "Set your Y and X variables."
      ]
    },
    {
      "cell_type": "markdown",
      "metadata": {
        "id": "US0k2_pKPwc3"
      },
      "source": [
        "Select the outcome variable."
      ]
    },
    {
      "cell_type": "code",
      "execution_count": null,
      "metadata": {
        "id": "lqJTQvyDPJaP"
      },
      "outputs": [],
      "source": [
        "# Select the outcome variable (for example, 'verified_status')\n",
        "outcome_variable = tiktok_dataset['verified_status']\n",
        "\n",
        "# Display the first few values of the outcome variable\n",
        "print(outcome_variable.head())\n"
      ]
    },
    {
      "cell_type": "markdown",
      "metadata": {
        "id": "q9weSPMlP1ES"
      },
      "source": [
        "Select the features."
      ]
    },
    {
      "cell_type": "code",
      "execution_count": null,
      "metadata": {
        "colab": {
          "base_uri": "https://localhost:8080/",
          "height": 206
        },
        "id": "LYUyFQ5zPzMC",
        "outputId": "9184c1e3-7985-4e29-ba64-da2331fccb42"
      },
      "outputs": [],
      "source": [
        "# Select the features by excluding the outcome variable ('verified_status')\n",
        "features = tiktok_dataset.drop(columns=['verified_status'])\n",
        "\n",
        "# Display the first few rows of the features dataframe\n",
        "print(features.head())\n",
        "\n",
        "\n",
        "# Select specific columns as features\n",
        "features = tiktok_dataset[['video_view_count', 'video_like_count', 'video_comment_count', 'transcription_length']]\n",
        "\n",
        "# Display the first few rows of the features dataframe\n",
        "print(features.head())\n",
        "\n",
        "\n"
      ]
    },
    {
      "cell_type": "code",
      "execution_count": null,
      "metadata": {
        "id": "fJ74BzN_P0J1"
      },
      "outputs": [],
      "source": [
        "from sklearn.model_selection import train_test_split\n",
        "\n",
        "# Split the data into training and testing sets (80% for training and 20% for testing)\n",
        "X_train, X_test, y_train, y_test = train_test_split(features, outcome_variable, test_size=0.2, random_state=42)\n",
        "\n",
        "# Display the shape of the training and testing sets\n",
        "print(f\"Training set shape: X_train = {X_train.shape}, y_train = {y_train.shape}\")\n",
        "print(f\"Testing set shape: X_test = {X_test.shape}, y_test = {y_test.shape}\")\n",
        "\n"
      ]
    },
    {
      "cell_type": "code",
      "execution_count": null,
      "metadata": {
        "colab": {
          "base_uri": "https://localhost:8080/"
        },
        "id": "JE3Q6ezu9ey_",
        "outputId": "ba9516d1-d20a-401f-e7b1-8e81bb7840fa"
      },
      "outputs": [],
      "source": [
        "# Get the shape of each training and testing set\n",
        "print(f\"Shape of X_train (features for training): {X_train.shape}\")\n",
        "print(f\"Shape of X_test (features for testing): {X_test.shape}\")\n",
        "print(f\"Shape of y_train (outcome for training): {y_train.shape}\")\n",
        "print(f\"Shape of y_test (outcome for testing): {y_test.shape}\")\n"
      ]
    },
    {
      "cell_type": "code",
      "execution_count": null,
      "metadata": {
        "colab": {
          "base_uri": "https://localhost:8080/",
          "height": 304
        },
        "id": "1WUm-0jf9fwq",
        "outputId": "8fb37076-fa89-436c-c6b5-ec12af2d0df7"
      },
      "outputs": [],
      "source": [
        "# Check the data types of each column in the dataset\n",
        "print(tiktok_dataset.dtypes)\n",
        "\n"
      ]
    },
    {
      "cell_type": "code",
      "execution_count": null,
      "metadata": {
        "colab": {
          "base_uri": "https://localhost:8080/"
        },
        "id": "M0XQ2C3Z9gwP",
        "outputId": "ce5acfd4-623e-4da2-890b-c870b05c7039"
      },
      "outputs": [],
      "source": [
        "# Get unique values in the 'claim_status' column\n",
        "unique_claim_status = tiktok_dataset['claim_status'].unique()\n",
        "\n",
        "# Display the unique values\n",
        "print(unique_claim_status)\n",
        "\n"
      ]
    },
    {
      "cell_type": "code",
      "execution_count": null,
      "metadata": {
        "colab": {
          "base_uri": "https://localhost:8080/"
        },
        "id": "pXkOvv_a9iLe",
        "outputId": "b7cdccf7-05d4-448b-f217-2d529d7c514a"
      },
      "outputs": [],
      "source": [
        "# Get unique values in the 'author_ban_status' column\n",
        "unique_author_ban_status = tiktok_dataset['author_ban_status'].unique()\n",
        "\n",
        "# Display the unique values\n",
        "print(unique_author_ban_status)\n",
        "\n"
      ]
    },
    {
      "cell_type": "code",
      "execution_count": null,
      "metadata": {
        "colab": {
          "base_uri": "https://localhost:8080/",
          "height": 206
        },
        "id": "hzKCgoJM9jq0",
        "outputId": "3d26e6e5-b764-4b1e-8884-9462fff26979"
      },
      "outputs": [],
      "source": [
        "# Select the categorical columns in the features DataFrame\n",
        "categorical_columns = X_train.select_dtypes(include=['object']).columns\n",
        "\n",
        "# Display the first few rows of the categorical columns\n",
        "print(X_train[categorical_columns].head())\n",
        "\n",
        "\n"
      ]
    },
    {
      "cell_type": "code",
      "execution_count": null,
      "metadata": {
        "id": "zIENQQq79ksT"
      },
      "outputs": [],
      "source": [
        "from sklearn.preprocessing import OneHotEncoder\n",
        "\n",
        "# Initialize the OneHotEncoder\n",
        "encoder = OneHotEncoder(drop='first', sparse=False)\n",
        "\n",
        "# Fit and transform the categorical features in the training set\n",
        "X_train_encoded = encoder.fit_transform(X_train[categorical_columns])\n",
        "\n",
        "# Convert the encoded features to a DataFrame for easier readability\n",
        "X_train_encoded_df = pd.DataFrame(X_train_encoded, columns=encoder.get_feature_names_out(categorical_columns))\n",
        "\n",
        "# Display the first few rows of the encoded features\n",
        "print(X_train_encoded_df.head())\n"
      ]
    },
    {
      "cell_type": "code",
      "execution_count": null,
      "metadata": {
        "id": "hUyV5ntn9lzH"
      },
      "outputs": [],
      "source": [
        "from sklearn.preprocessing import OneHotEncoder\n",
        "\n",
        "# Initialize the OneHotEncoder\n",
        "encoder = OneHotEncoder(drop='first', sparse=False)\n",
        "\n",
        "# Fit and transform the categorical features in the training set\n",
        "X_train_encoded = encoder.fit_transform(X_train[categorical_columns])\n",
        "\n",
        "# Convert the encoded features to a DataFrame for easier readability\n",
        "X_train_encoded_df = pd.DataFrame(X_train_encoded, columns=encoder.get_feature_names_out(categorical_columns))\n",
        "\n",
        "# Display the first few rows of the encoded features\n",
        "print(X_train_encoded_df.head())\n"
      ]
    },
    {
      "cell_type": "code",
      "execution_count": null,
      "metadata": {
        "colab": {
          "base_uri": "https://localhost:8080/",
          "height": 206
        },
        "id": "vxhW4XzT9m4Q",
        "outputId": "57fa3350-3033-4f14-af93-8abe66d51ef1"
      },
      "outputs": [],
      "source": [
        "# Place the encoded training features (array) into a DataFrame\n",
        "X_train_encoded_df = pd.DataFrame(X_train_encoded, columns=encoder.get_feature_names_out(categorical_columns))\n",
        "\n",
        "# Display the first few rows of the encoded features DataFrame\n",
        "print(X_train_encoded_df.head())\n",
        "\n"
      ]
    },
    {
      "cell_type": "code",
      "execution_count": null,
      "metadata": {
        "colab": {
          "base_uri": "https://localhost:8080/",
          "height": 206
        },
        "id": "rLP4XZ9F9sOd",
        "outputId": "48ba426f-7d9b-43f7-8965-437e2e22ef15"
      },
      "outputs": [],
      "source": [
        "# Drop the 'claim_status' and 'author_ban_status' columns from X_train\n",
        "X_train_dropped = X_train.drop(columns=['claim_status', 'author_ban_status'])\n",
        "\n",
        "# Display the first few rows of the modified X_train\n",
        "print(X_train_dropped.head())\n",
        "\n"
      ]
    },
    {
      "cell_type": "code",
      "execution_count": null,
      "metadata": {
        "colab": {
          "base_uri": "https://localhost:8080/",
          "height": 244
        },
        "id": "AJEb_Hav9spp",
        "outputId": "4ddcdb78-1a05-4d47-e362-5d8ff4ab70d0"
      },
      "outputs": [],
      "source": [
        "# Drop the 'claim_status' and 'author_ban_status' columns from X_train\n",
        "X_train_dropped = X_train.drop(columns=['claim_status', 'author_ban_status'])\n",
        "\n",
        "# Reset index of X_train_dropped to align with the encoded DataFrame\n",
        "X_train_dropped.reset_index(drop=True, inplace=True)\n",
        "\n",
        "# Concatenate X_train_dropped and X_train_encoded_df\n",
        "X_train_final = pd.concat([X_train_dropped, X_train_encoded_df], axis=1)\n",
        "\n",
        "# Display the first few rows of the final training DataFrame\n",
        "print(X_train_final.head())\n",
        "\n",
        "\n",
        "\n"
      ]
    },
    {
      "cell_type": "code",
      "execution_count": null,
      "metadata": {
        "colab": {
          "base_uri": "https://localhost:8080/",
          "height": 335
        },
        "id": "GI3wYdAB9tiT",
        "outputId": "ff9d498e-85c4-4260-87e8-ac9c6486939a"
      },
      "outputs": [],
      "source": [
        "# Check the data type of the outcome variable (e.g., y_train)\n",
        "print(y_train.dtype)\n",
        "\n"
      ]
    },
    {
      "cell_type": "code",
      "execution_count": null,
      "metadata": {
        "colab": {
          "base_uri": "https://localhost:8080/"
        },
        "id": "q0mccX599u_f",
        "outputId": "5b5d6d53-748b-439a-b431-676d8ee64556"
      },
      "outputs": [],
      "source": [
        "# Get unique values of the outcome variable (e.g., y_train)\n",
        "unique_outcome_values = y_train.unique()\n",
        "\n",
        "# Display the unique values\n",
        "print(unique_outcome_values)\n",
        "\n",
        "\n"
      ]
    },
    {
      "cell_type": "markdown",
      "metadata": {
        "id": "m9icbLPa92ZS"
      },
      "source": [
        "A shown above, the outcome variable is of data type `object` currently. One-hot encoding can be used to make this variable numeric.\n",
        "\n",
        "Encode categorical values of the outcome variable the training set using an appropriate method."
      ]
    },
    {
      "cell_type": "code",
      "execution_count": null,
      "metadata": {
        "id": "XVsMXv4r9wN4"
      },
      "outputs": [],
      "source": [
        "# Get unique values of the outcome variable (e.g., y_train)\n",
        "unique_outcome_values = y_train.unique()\n",
        "\n",
        "# Display the unique values\n",
        "print(unique_outcome_values)\n",
        "\n"
      ]
    },
    {
      "cell_type": "code",
      "execution_count": null,
      "metadata": {
        "colab": {
          "base_uri": "https://localhost:8080/"
        },
        "id": "VTY1dhJl9xTD",
        "outputId": "ff67ef35-e310-46ca-9b8c-015599fecd85"
      },
      "outputs": [],
      "source": [
        "from sklearn.preprocessing import OneHotEncoder\n",
        "\n",
        "# Initialize the OneHotEncoder\n",
        "encoder = OneHotEncoder(drop='first', sparse=False)\n",
        "\n",
        "# Reshape y_train to a 2D array and apply the one-hot encoder\n",
        "y_train_encoded = encoder.fit_transform(y_train.values.reshape(-1, 1))\n",
        "\n",
        "# Flatten the array using .ravel() for further use in model training\n",
        "y_train_encoded_flat = y_train_encoded.ravel()\n",
        "\n",
        "# Display the encoded training outcome variable\n",
        "print(y_train_encoded_flat[:10])  # Display first 10 values for inspection\n",
        "\n",
        "\n",
        "\n"
      ]
    },
    {
      "cell_type": "markdown",
      "metadata": {
        "id": "iN4UJ5u-95bK"
      },
      "source": [
        "### **Task 3d. Model building**\n",
        "Construct a model and fit it to the training set."
      ]
    },
    {
      "cell_type": "code",
      "execution_count": null,
      "metadata": {
        "id": "0rtVRelu9yLd"
      },
      "outputs": [],
      "source": [
        "from sklearn.linear_model import LogisticRegression\n",
        "\n",
        "# Initialize the Logistic Regression model\n",
        "logreg_model = LogisticRegression()\n",
        "\n",
        "# Fit the model to the training data (features and encoded outcome variable)\n",
        "logreg_model.fit(X_train_final, y_train_encoded_flat)\n",
        "\n",
        "# Display the coefficients of the fitted model\n",
        "print(\"Model coefficients:\", logreg_model.coef_)\n",
        "print(\"Model intercept:\", logreg_model.intercept_)\n",
        "\n",
        "\n",
        "\n"
      ]
    },
    {
      "cell_type": "markdown",
      "metadata": {
        "id": "HbQZZ-ES-CI7"
      },
      "source": [
        "### **Taks 4a. Results and evaluation**\n",
        "\n",
        "Evaluate your model."
      ]
    },
    {
      "cell_type": "markdown",
      "metadata": {
        "id": "GynkNZBf-FqN"
      },
      "source": [
        "Encode categorical features in the testing set using an appropriate method."
      ]
    },
    {
      "cell_type": "code",
      "execution_count": null,
      "metadata": {
        "colab": {
          "base_uri": "https://localhost:8080/",
          "height": 206
        },
        "id": "DjPt_Ymu-AR4",
        "outputId": "8430d164-5abe-4f22-dff6-f4ce2ef38d78"
      },
      "outputs": [],
      "source": [
        "# Select categorical columns from the testing features (assuming the columns are the same as in the training set)\n",
        "categorical_columns_test = ['your_categorical_column_1', 'your_categorical_column_2']  # Replace with actual categorical columns\n",
        "\n",
        "# Select the testing features that need to be encoded\n",
        "X_test_categorical = X_test[categorical_columns_test]\n",
        "\n",
        "# Display the first few rows of the selected testing features\n",
        "print(X_test_categorical.head())\n",
        "\n",
        "\n"
      ]
    },
    {
      "cell_type": "code",
      "execution_count": null,
      "metadata": {
        "colab": {
          "base_uri": "https://localhost:8080/"
        },
        "id": "pFdCuIcI-HQT",
        "outputId": "cfc0adf2-e0e4-4af5-ddd4-00abc08bf8a2"
      },
      "outputs": [],
      "source": [
        "# Transform the testing features using the fitted encoder\n",
        "X_test_encoded = encoder.transform(X_test_categorical)\n",
        "\n",
        "# Convert the encoded features to a DataFrame for easier readability\n",
        "X_test_encoded_df = pd.DataFrame(X_test_encoded, columns=encoder.get_feature_names_out(categorical_columns_test))\n",
        "\n",
        "# Display the first few rows of the encoded testing features\n",
        "print(X_test_encoded_df.head())\n"
      ]
    },
    {
      "cell_type": "code",
      "execution_count": null,
      "metadata": {
        "colab": {
          "base_uri": "https://localhost:8080/",
          "height": 206
        },
        "id": "vyOMZrbo-JPI",
        "outputId": "20c5d95a-4bcd-43ce-ca88-47c313b4a066"
      },
      "outputs": [],
      "source": [
        "# Convert the encoded testing features to a DataFrame\n",
        "X_test_encoded_df = pd.DataFrame(X_test_encoded, columns=encoder.get_feature_names_out(categorical_columns_test))\n",
        "\n",
        "# Display the first few rows of the encoded testing features DataFrame\n",
        "print(X_test_encoded_df.head())\n",
        "\n"
      ]
    },
    {
      "cell_type": "code",
      "execution_count": null,
      "metadata": {
        "colab": {
          "base_uri": "https://localhost:8080/",
          "height": 206
        },
        "id": "XMgBHpzi-KLS",
        "outputId": "b7862fdb-015d-4e1e-e6cf-4ba2e0b5bb77"
      },
      "outputs": [],
      "source": [
        "# Drop the 'claim_status' and 'author_ban_status' columns from X_test\n",
        "X_test_dropped = X_test.drop(columns=['claim_status', 'author_ban_status'])\n",
        "\n",
        "# Display the first few rows of the modified X_test\n",
        "print(X_test_dropped.head())\n",
        "\n"
      ]
    },
    {
      "cell_type": "code",
      "execution_count": null,
      "metadata": {
        "colab": {
          "base_uri": "https://localhost:8080/",
          "height": 244
        },
        "id": "ca9CY_Vn-MEl",
        "outputId": "78736952-39f0-4242-ebfc-77677a3ae461"
      },
      "outputs": [],
      "source": [
        "# Drop the 'claim_status' and 'author_ban_status' columns from X_test\n",
        "X_test_dropped = X_test.drop(columns=['claim_status', 'author_ban_status'])\n",
        "\n",
        "# Reset the index to align with the encoded DataFrame\n",
        "X_test_dropped.reset_index(drop=True, inplace=True)\n",
        "\n",
        "# Concatenate X_test_dropped and X_test_encoded_df\n",
        "X_test_final = pd.concat([X_test_dropped, X_test_encoded_df], axis=1)\n",
        "\n",
        "# Display the first few rows of the final X_test dataframe\n",
        "print(X_test_final.head())\n",
        "\n"
      ]
    },
    {
      "cell_type": "code",
      "execution_count": null,
      "metadata": {
        "id": "b5LJuq9Z-NNo"
      },
      "outputs": [],
      "source": [
        "# Use the logistic regression model to get predictions on the encoded testing set\n",
        "y_test_pred = logreg_model.predict(X_test_final)\n",
        "\n",
        "# Display the first few predictions\n",
        "print(y_test_pred[:10])  # Display the first 10 predictions\n"
      ]
    },
    {
      "cell_type": "code",
      "execution_count": null,
      "metadata": {
        "colab": {
          "base_uri": "https://localhost:8080/"
        },
        "id": "J5jARP_K-Oa-",
        "outputId": "6003682a-fb02-4182-8adc-7f4eebfbf124"
      },
      "outputs": [],
      "source": [
        "# Display the predictions on the encoded testing set\n",
        "print(\"Predictions on the encoded testing set:\")\n",
        "print(y_test_pred)\n",
        "\n"
      ]
    },
    {
      "cell_type": "code",
      "execution_count": null,
      "metadata": {
        "colab": {
          "base_uri": "https://localhost:8080/",
          "height": 458
        },
        "id": "UuwmJfOd-PTi",
        "outputId": "8674ab05-cf3d-433a-dada-7e700b98cf23"
      },
      "outputs": [],
      "source": [
        "# Display the true labels of the testing set\n",
        "print(\"True labels of the testing set:\")\n",
        "print(y_test)\n"
      ]
    },
    {
      "cell_type": "code",
      "execution_count": null,
      "metadata": {
        "colab": {
          "base_uri": "https://localhost:8080/"
        },
        "id": "OlDF0MyM-Qy-",
        "outputId": "f6416ae6-48a9-40ce-cfe6-7fef883d6abd"
      },
      "outputs": [],
      "source": [
        "# Reshape y_test to a 2D array and apply the one-hot encoder\n",
        "y_test_encoded = encoder.transform(y_test.values.reshape(-1, 1))\n",
        "\n",
        "# Flatten the array using .ravel() for further use in comparison\n",
        "y_test_encoded_flat = y_test_encoded.ravel()\n",
        "\n",
        "# Display the encoded testing outcome variable\n",
        "print(\"Encoded testing outcome variable:\")\n",
        "print(y_test_encoded_flat[:10])  # Display the first 10 values for inspection\n",
        "\n",
        "\n"
      ]
    },
    {
      "cell_type": "markdown",
      "metadata": {
        "id": "d3uqv7ES-Vub"
      },
      "source": [
        "Confirm again that the dimensions of the training and testing sets are in alignment since additional features were added."
      ]
    },
    {
      "cell_type": "code",
      "execution_count": null,
      "metadata": {
        "colab": {
          "base_uri": "https://localhost:8080/"
        },
        "id": "QMR3du7U-SYN",
        "outputId": "709c8764-f8ef-4734-82ed-35d0a8ef6d5e"
      },
      "outputs": [],
      "source": [
        "# Get the shape of the training set\n",
        "print(\"Shape of the training set (X_train_final):\", X_train_final.shape)\n",
        "\n",
        "# Get the shape of the testing set\n",
        "print(\"Shape of the testing set (X_test_final):\", X_test_final.shape)\n"
      ]
    },
    {
      "cell_type": "markdown",
      "metadata": {
        "id": "flAX_8PG-YIy"
      },
      "source": [
        "### **Task 4b. Visualize model results**\n",
        "Create a confusion matrix to visualize the results of the logistic regression model."
      ]
    },
    {
      "cell_type": "code",
      "execution_count": null,
      "metadata": {
        "colab": {
          "base_uri": "https://localhost:8080/",
          "height": 449
        },
        "id": "8MvdNUSi-Ttj",
        "outputId": "fdbef6ed-ff7b-485a-b948-a06f042a2459"
      },
      "outputs": [],
      "source": [
        "from sklearn.metrics import confusion_matrix, ConfusionMatrixDisplay\n",
        "import matplotlib.pyplot as plt\n",
        "\n",
        "# Assuming y_true and y_pred are already defined\n",
        "y_true = # Your actual labels\n",
        "y_pred = # Your predicted labels\n",
        "\n",
        "# Compute the confusion matrix\n",
        "cm = confusion_matrix(y_true, y_pred)\n",
        "\n",
        "# Create the display\n",
        "disp = ConfusionMatrixDisplay(confusion_matrix=cm, display_labels=[\"Class 0\", \"Class 1\"])\n",
        "\n",
        "# Plot the confusion matrix\n",
        "disp.plot(cmap='Blues')\n",
        "\n",
        "# Show the plot\n",
        "plt.show()\n",
        "\n"
      ]
    },
    {
      "cell_type": "markdown",
      "metadata": {
        "id": "5M6qsLru-cNf"
      },
      "source": [
        "\n",
        "- The upper-left quadrant displays the number of true negatives: the number of videos posted by unverified accounts that the model accurately classified as so.\n",
        "\n",
        "- The upper-right quadrant displays the number of false positives: the number of videos posted by unverified accounts that the model misclassified as posted by verified accounts.\n",
        "\n",
        "- The lower-left quadrant displays the number of false negatives: the number of videos posted by verified accounts that the model misclassified as posted by unverified accounts.\n",
        "\n",
        "- The lower-right quadrant displays the number of true positives: the number of videos posted by verified accounts that the model accurately classified as so.\n",
        "\n",
        "A perfect model would yield all true negatives and true positives, and no false negatives or false positives."
      ]
    },
    {
      "cell_type": "markdown",
      "metadata": {
        "id": "ZAHXyKhR-hTT"
      },
      "source": [
        "Create a classification report that includes precision, recall, f1-score, and accuracy metrics to evaluate the performance of the logistic regression model."
      ]
    },
    {
      "cell_type": "code",
      "execution_count": null,
      "metadata": {
        "colab": {
          "base_uri": "https://localhost:8080/"
        },
        "id": "Ip-WyfG4-aiN",
        "outputId": "79cbbb49-2759-4dea-9837-f8bfc542d163"
      },
      "outputs": [],
      "source": [
        "from sklearn.metrics import classification_report\n",
        "\n",
        "# Assuming y_true are the actual labels and y_pred are the predicted labels\n",
        "y_true = # Actual labels (e.g., test set labels)\n",
        "y_pred = # Predicted labels (e.g., model predictions)\n",
        "\n",
        "# Generate the classification report\n",
        "report = classification_report(y_true, y_pred)\n",
        "\n",
        "# Display the report\n",
        "print(report)\n",
        "\n"
      ]
    },
    {
      "cell_type": "markdown",
      "metadata": {
        "id": "ATqrivxy-keg"
      },
      "source": [
        "### **Task 4c. Interpret model coefficients**"
      ]
    },
    {
      "cell_type": "code",
      "execution_count": null,
      "metadata": {
        "colab": {
          "base_uri": "https://localhost:8080/",
          "height": 300
        },
        "id": "0lhZueQZ-jGz",
        "outputId": "bde4648d-2b00-4791-b282-995427464493"
      },
      "outputs": [],
      "source": [
        "import pandas as pd\n",
        "from sklearn.linear_model import LogisticRegression\n",
        "\n",
        "# Assuming you have already trained a logistic regression model\n",
        "# For example, let's use a model named 'model' and a feature matrix X\n",
        "\n",
        "# Get the feature names\n",
        "feature_names = X.columns  # Assuming X is a DataFrame with column names\n",
        "\n",
        "# Get the coefficients from the model (log-odds ratios)\n",
        "coefficients = model.coef_.flatten()  # Flatten to make it 1D for easier use in a DataFrame\n",
        "\n",
        "# Create a DataFrame to display the feature names and corresponding coefficients\n",
        "coef_df = pd.DataFrame({\n",
        "    'Feature': feature_names,\n",
        "    'Coefficient (log-odds)': coefficients\n",
        "})\n",
        "\n",
        "# Display the DataFrame\n",
        "print(coef_df)\n"
      ]
    },
    {
      "cell_type": "markdown",
      "metadata": {
        "id": "ybJSacbb-pj1"
      },
      "source": [
        "### **Task 4d. Conclusion**\n",
        "\n",
        "1. What are the key takeaways from this project?\n",
        "\n",
        "2. What results can be presented from this project?"
      ]
    },
    {
      "cell_type": "markdown",
      "metadata": {
        "id": "bIWstWYl-sFY"
      },
      "source": [
        "- `video_like_count` shows strong correlation with a few other features which can lead to multicollinearity issues. I decided to drop the feature.\n",
        "- Based on the logistic regression model, each additional second of the video is associated with 0.009 increase in the log-odds of the user having a verified status.\n",
        "- The logistic regression model had not great, but acceptable predictive power: a precision of 61% is less than ideal, but a recall of 84% is very good. Overall accuracy is towards the lower end of what would typically be considered acceptable.\n",
        "\n",
        "\n",
        "I developed a logistic regression model for verified status based on video features. The model had decent predictive power. Based on the estimated model coefficients from the logistic regression, longer videos tend to be associated with higher odds of the user being verified. Other video features have small estimated coefficients in the model, so their association with verified status seems to be small."
      ]
    },
    {
      "cell_type": "code",
      "execution_count": null,
      "metadata": {
        "id": "5c_LNpcG-lCj"
      },
      "outputs": [],
      "source": []
    }
  ],
  "metadata": {
    "colab": {
      "provenance": []
    },
    "kernelspec": {
      "display_name": "Python 3",
      "language": "python",
      "name": "python3"
    },
    "language_info": {
      "codemirror_mode": {
        "name": "ipython",
        "version": 3
      },
      "file_extension": ".py",
      "mimetype": "text/x-python",
      "name": "python",
      "nbconvert_exporter": "python",
      "pygments_lexer": "ipython3",
      "version": "3.13.2"
    }
  },
  "nbformat": 4,
  "nbformat_minor": 0
}
